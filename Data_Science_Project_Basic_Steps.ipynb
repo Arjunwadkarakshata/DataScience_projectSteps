{
 "cells": [
  {
   "cell_type": "markdown",
   "id": "73e7b6f1",
   "metadata": {},
   "source": [
    "The steps followed in Data Science project:\n",
    "    \n",
    "1)Problem Statement\n",
    "2)Data Gathering\n",
    "3)Exploratory Data Analysis(EDA)\n",
    "4)Feature Engineering\n",
    "5)Feature Selection\n",
    "6)Model Building\n",
    "7)Model Evaluation"
   ]
  },
  {
   "cell_type": "code",
   "execution_count": 33,
   "id": "092cdced",
   "metadata": {},
   "outputs": [],
   "source": [
    "#import libraries\n",
    "\n",
    "import pandas as pd\n",
    "import numpy as np\n",
    "\n",
    "#visualization libraries\n",
    "\n",
    "import seaborn as sns\n",
    "import matplotlib.pyplot as plt\n",
    "\n",
    "#data preprocessing\n",
    "from sklearn.preprocessing import MinMaxScaler,StandardScaler\n",
    "from imblearn.over_sampling import SMOTE"
   ]
  },
  {
   "cell_type": "code",
   "execution_count": 17,
   "id": "236f68d1",
   "metadata": {},
   "outputs": [
    {
     "data": {
      "text/html": [
       "<div>\n",
       "<style scoped>\n",
       "    .dataframe tbody tr th:only-of-type {\n",
       "        vertical-align: middle;\n",
       "    }\n",
       "\n",
       "    .dataframe tbody tr th {\n",
       "        vertical-align: top;\n",
       "    }\n",
       "\n",
       "    .dataframe thead th {\n",
       "        text-align: right;\n",
       "    }\n",
       "</style>\n",
       "<table border=\"1\" class=\"dataframe\">\n",
       "  <thead>\n",
       "    <tr style=\"text-align: right;\">\n",
       "      <th></th>\n",
       "      <th>Emp ID</th>\n",
       "      <th>First Name</th>\n",
       "      <th>Age in Yrs</th>\n",
       "      <th>Weight in Kgs</th>\n",
       "      <th>Age in Company</th>\n",
       "      <th>Salary</th>\n",
       "      <th>City</th>\n",
       "    </tr>\n",
       "  </thead>\n",
       "  <tbody>\n",
       "    <tr>\n",
       "      <th>0</th>\n",
       "      <td>677509</td>\n",
       "      <td>Lois</td>\n",
       "      <td>36.36</td>\n",
       "      <td>60.0</td>\n",
       "      <td>13.68</td>\n",
       "      <td>NaN</td>\n",
       "      <td>Denver</td>\n",
       "    </tr>\n",
       "    <tr>\n",
       "      <th>1</th>\n",
       "      <td>441771</td>\n",
       "      <td>Cheryl</td>\n",
       "      <td>59.47</td>\n",
       "      <td>56.0</td>\n",
       "      <td>26.69</td>\n",
       "      <td>92220.0</td>\n",
       "      <td>Quecreek</td>\n",
       "    </tr>\n",
       "    <tr>\n",
       "      <th>2</th>\n",
       "      <td>428945</td>\n",
       "      <td>Joe</td>\n",
       "      <td>54.15</td>\n",
       "      <td>68.0</td>\n",
       "      <td>NaN</td>\n",
       "      <td>50155.0</td>\n",
       "      <td>Michigantown</td>\n",
       "    </tr>\n",
       "    <tr>\n",
       "      <th>3</th>\n",
       "      <td>408351</td>\n",
       "      <td>Diane</td>\n",
       "      <td>39.67</td>\n",
       "      <td>51.0</td>\n",
       "      <td>18.30</td>\n",
       "      <td>180294.0</td>\n",
       "      <td>NaN</td>\n",
       "    </tr>\n",
       "    <tr>\n",
       "      <th>4</th>\n",
       "      <td>193819</td>\n",
       "      <td>Benjamin</td>\n",
       "      <td>40.31</td>\n",
       "      <td>58.0</td>\n",
       "      <td>4.01</td>\n",
       "      <td>117642.0</td>\n",
       "      <td>Fremont</td>\n",
       "    </tr>\n",
       "    <tr>\n",
       "      <th>...</th>\n",
       "      <td>...</td>\n",
       "      <td>...</td>\n",
       "      <td>...</td>\n",
       "      <td>...</td>\n",
       "      <td>...</td>\n",
       "      <td>...</td>\n",
       "      <td>...</td>\n",
       "    </tr>\n",
       "    <tr>\n",
       "      <th>95</th>\n",
       "      <td>639892</td>\n",
       "      <td>Jose</td>\n",
       "      <td>22.82</td>\n",
       "      <td>89.0</td>\n",
       "      <td>1.05</td>\n",
       "      <td>129774.0</td>\n",
       "      <td>Biloxi</td>\n",
       "    </tr>\n",
       "    <tr>\n",
       "      <th>96</th>\n",
       "      <td>704709</td>\n",
       "      <td>Harold</td>\n",
       "      <td>32.61</td>\n",
       "      <td>77.0</td>\n",
       "      <td>5.93</td>\n",
       "      <td>156194.0</td>\n",
       "      <td>Carol Stream</td>\n",
       "    </tr>\n",
       "    <tr>\n",
       "      <th>97</th>\n",
       "      <td>461593</td>\n",
       "      <td>Nicole</td>\n",
       "      <td>52.66</td>\n",
       "      <td>60.0</td>\n",
       "      <td>28.53</td>\n",
       "      <td>95673.0</td>\n",
       "      <td>Detroit</td>\n",
       "    </tr>\n",
       "    <tr>\n",
       "      <th>98</th>\n",
       "      <td>392491</td>\n",
       "      <td>Theresa</td>\n",
       "      <td>29.60</td>\n",
       "      <td>57.0</td>\n",
       "      <td>6.99</td>\n",
       "      <td>51015.0</td>\n",
       "      <td>Mc Grath</td>\n",
       "    </tr>\n",
       "    <tr>\n",
       "      <th>99</th>\n",
       "      <td>495141</td>\n",
       "      <td>Tammy</td>\n",
       "      <td>38.38</td>\n",
       "      <td>55.0</td>\n",
       "      <td>2.26</td>\n",
       "      <td>93650.0</td>\n",
       "      <td>Alma</td>\n",
       "    </tr>\n",
       "  </tbody>\n",
       "</table>\n",
       "<p>100 rows × 7 columns</p>\n",
       "</div>"
      ],
      "text/plain": [
       "    Emp ID First Name  Age in Yrs  Weight in Kgs  Age in Company    Salary  \\\n",
       "0   677509       Lois       36.36           60.0           13.68       NaN   \n",
       "1   441771     Cheryl       59.47           56.0           26.69   92220.0   \n",
       "2   428945        Joe       54.15           68.0             NaN   50155.0   \n",
       "3   408351      Diane       39.67           51.0           18.30  180294.0   \n",
       "4   193819   Benjamin       40.31           58.0            4.01  117642.0   \n",
       "..     ...        ...         ...            ...             ...       ...   \n",
       "95  639892       Jose       22.82           89.0            1.05  129774.0   \n",
       "96  704709     Harold       32.61           77.0            5.93  156194.0   \n",
       "97  461593     Nicole       52.66           60.0           28.53   95673.0   \n",
       "98  392491    Theresa       29.60           57.0            6.99   51015.0   \n",
       "99  495141      Tammy       38.38           55.0            2.26   93650.0   \n",
       "\n",
       "                     City  \n",
       "0                  Denver  \n",
       "1                Quecreek  \n",
       "2   Michigantown           \n",
       "3                     NaN  \n",
       "4                 Fremont  \n",
       "..                    ...  \n",
       "95                 Biloxi  \n",
       "96           Carol Stream  \n",
       "97                Detroit  \n",
       "98               Mc Grath  \n",
       "99                   Alma  \n",
       "\n",
       "[100 rows x 7 columns]"
      ]
     },
     "execution_count": 17,
     "metadata": {},
     "output_type": "execute_result"
    }
   ],
   "source": [
    "df=pd.read_csv(\"Emp_data_NAN.csv\",na_values=[\"?\",\"NA\",\"not available\"])\n",
    "df"
   ]
  },
  {
   "cell_type": "markdown",
   "id": "8f0a9b53",
   "metadata": {},
   "source": [
    "# Exploratory Data Analysis"
   ]
  },
  {
   "cell_type": "markdown",
   "id": "5d15732b",
   "metadata": {},
   "source": [
    "EDA stands for Exploratory Data Analysis. where we do analysis and summary of our data by applying some statistical techniques\n",
    "and graphical representation."
   ]
  },
  {
   "cell_type": "code",
   "execution_count": null,
   "id": "00613942",
   "metadata": {},
   "outputs": [],
   "source": [
    "# instaed of checking all values of dataset, we are checking 1st or last 5 or N values with the help of head() or tail()"
   ]
  },
  {
   "cell_type": "code",
   "execution_count": 3,
   "id": "03a8915d",
   "metadata": {},
   "outputs": [
    {
     "data": {
      "text/html": [
       "<div>\n",
       "<style scoped>\n",
       "    .dataframe tbody tr th:only-of-type {\n",
       "        vertical-align: middle;\n",
       "    }\n",
       "\n",
       "    .dataframe tbody tr th {\n",
       "        vertical-align: top;\n",
       "    }\n",
       "\n",
       "    .dataframe thead th {\n",
       "        text-align: right;\n",
       "    }\n",
       "</style>\n",
       "<table border=\"1\" class=\"dataframe\">\n",
       "  <thead>\n",
       "    <tr style=\"text-align: right;\">\n",
       "      <th></th>\n",
       "      <th>Emp ID</th>\n",
       "      <th>First Name</th>\n",
       "      <th>Age in Yrs</th>\n",
       "      <th>Weight in Kgs</th>\n",
       "      <th>Age in Company</th>\n",
       "      <th>Salary</th>\n",
       "      <th>City</th>\n",
       "    </tr>\n",
       "  </thead>\n",
       "  <tbody>\n",
       "    <tr>\n",
       "      <th>0</th>\n",
       "      <td>677509</td>\n",
       "      <td>Lois</td>\n",
       "      <td>36.36</td>\n",
       "      <td>60.0</td>\n",
       "      <td>13.68</td>\n",
       "      <td>NaN</td>\n",
       "      <td>Denver</td>\n",
       "    </tr>\n",
       "    <tr>\n",
       "      <th>1</th>\n",
       "      <td>441771</td>\n",
       "      <td>Cheryl</td>\n",
       "      <td>59.47</td>\n",
       "      <td>56.0</td>\n",
       "      <td>26.69</td>\n",
       "      <td>92220.0</td>\n",
       "      <td>Quecreek</td>\n",
       "    </tr>\n",
       "    <tr>\n",
       "      <th>2</th>\n",
       "      <td>428945</td>\n",
       "      <td>Joe</td>\n",
       "      <td>54.15</td>\n",
       "      <td>68.0</td>\n",
       "      <td>NaN</td>\n",
       "      <td>50155.0</td>\n",
       "      <td>Michigantown</td>\n",
       "    </tr>\n",
       "    <tr>\n",
       "      <th>3</th>\n",
       "      <td>408351</td>\n",
       "      <td>Diane</td>\n",
       "      <td>39.67</td>\n",
       "      <td>51.0</td>\n",
       "      <td>18.30</td>\n",
       "      <td>180294.0</td>\n",
       "      <td>NaN</td>\n",
       "    </tr>\n",
       "    <tr>\n",
       "      <th>4</th>\n",
       "      <td>193819</td>\n",
       "      <td>Benjamin</td>\n",
       "      <td>40.31</td>\n",
       "      <td>58.0</td>\n",
       "      <td>4.01</td>\n",
       "      <td>117642.0</td>\n",
       "      <td>Fremont</td>\n",
       "    </tr>\n",
       "    <tr>\n",
       "      <th>5</th>\n",
       "      <td>499687</td>\n",
       "      <td>Patrick</td>\n",
       "      <td>34.86</td>\n",
       "      <td>58.0</td>\n",
       "      <td>12.02</td>\n",
       "      <td>72305.0</td>\n",
       "      <td>Macksburg</td>\n",
       "    </tr>\n",
       "  </tbody>\n",
       "</table>\n",
       "</div>"
      ],
      "text/plain": [
       "   Emp ID First Name  Age in Yrs  Weight in Kgs  Age in Company    Salary  \\\n",
       "0  677509       Lois       36.36           60.0           13.68       NaN   \n",
       "1  441771     Cheryl       59.47           56.0           26.69   92220.0   \n",
       "2  428945        Joe       54.15           68.0             NaN   50155.0   \n",
       "3  408351      Diane       39.67           51.0           18.30  180294.0   \n",
       "4  193819   Benjamin       40.31           58.0            4.01  117642.0   \n",
       "5  499687    Patrick       34.86           58.0           12.02   72305.0   \n",
       "\n",
       "                    City  \n",
       "0                 Denver  \n",
       "1               Quecreek  \n",
       "2  Michigantown           \n",
       "3                    NaN  \n",
       "4                Fremont  \n",
       "5              Macksburg  "
      ]
     },
     "execution_count": 3,
     "metadata": {},
     "output_type": "execute_result"
    }
   ],
   "source": [
    "df.head(6)"
   ]
  },
  {
   "cell_type": "code",
   "execution_count": 4,
   "id": "232e376b",
   "metadata": {},
   "outputs": [
    {
     "data": {
      "text/html": [
       "<div>\n",
       "<style scoped>\n",
       "    .dataframe tbody tr th:only-of-type {\n",
       "        vertical-align: middle;\n",
       "    }\n",
       "\n",
       "    .dataframe tbody tr th {\n",
       "        vertical-align: top;\n",
       "    }\n",
       "\n",
       "    .dataframe thead th {\n",
       "        text-align: right;\n",
       "    }\n",
       "</style>\n",
       "<table border=\"1\" class=\"dataframe\">\n",
       "  <thead>\n",
       "    <tr style=\"text-align: right;\">\n",
       "      <th></th>\n",
       "      <th>Emp ID</th>\n",
       "      <th>First Name</th>\n",
       "      <th>Age in Yrs</th>\n",
       "      <th>Weight in Kgs</th>\n",
       "      <th>Age in Company</th>\n",
       "      <th>Salary</th>\n",
       "      <th>City</th>\n",
       "    </tr>\n",
       "  </thead>\n",
       "  <tbody>\n",
       "    <tr>\n",
       "      <th>94</th>\n",
       "      <td>489424</td>\n",
       "      <td>Phillip</td>\n",
       "      <td>39.43</td>\n",
       "      <td>82.0</td>\n",
       "      <td>1.56</td>\n",
       "      <td>181774.0</td>\n",
       "      <td>Mapleton</td>\n",
       "    </tr>\n",
       "    <tr>\n",
       "      <th>95</th>\n",
       "      <td>639892</td>\n",
       "      <td>Jose</td>\n",
       "      <td>22.82</td>\n",
       "      <td>89.0</td>\n",
       "      <td>1.05</td>\n",
       "      <td>129774.0</td>\n",
       "      <td>Biloxi</td>\n",
       "    </tr>\n",
       "    <tr>\n",
       "      <th>96</th>\n",
       "      <td>704709</td>\n",
       "      <td>Harold</td>\n",
       "      <td>32.61</td>\n",
       "      <td>77.0</td>\n",
       "      <td>5.93</td>\n",
       "      <td>156194.0</td>\n",
       "      <td>Carol Stream</td>\n",
       "    </tr>\n",
       "    <tr>\n",
       "      <th>97</th>\n",
       "      <td>461593</td>\n",
       "      <td>Nicole</td>\n",
       "      <td>52.66</td>\n",
       "      <td>60.0</td>\n",
       "      <td>28.53</td>\n",
       "      <td>95673.0</td>\n",
       "      <td>Detroit</td>\n",
       "    </tr>\n",
       "    <tr>\n",
       "      <th>98</th>\n",
       "      <td>392491</td>\n",
       "      <td>Theresa</td>\n",
       "      <td>29.60</td>\n",
       "      <td>57.0</td>\n",
       "      <td>6.99</td>\n",
       "      <td>51015.0</td>\n",
       "      <td>Mc Grath</td>\n",
       "    </tr>\n",
       "    <tr>\n",
       "      <th>99</th>\n",
       "      <td>495141</td>\n",
       "      <td>Tammy</td>\n",
       "      <td>38.38</td>\n",
       "      <td>55.0</td>\n",
       "      <td>2.26</td>\n",
       "      <td>93650.0</td>\n",
       "      <td>Alma</td>\n",
       "    </tr>\n",
       "  </tbody>\n",
       "</table>\n",
       "</div>"
      ],
      "text/plain": [
       "    Emp ID First Name  Age in Yrs  Weight in Kgs  Age in Company    Salary  \\\n",
       "94  489424    Phillip       39.43           82.0            1.56  181774.0   \n",
       "95  639892       Jose       22.82           89.0            1.05  129774.0   \n",
       "96  704709     Harold       32.61           77.0            5.93  156194.0   \n",
       "97  461593     Nicole       52.66           60.0           28.53   95673.0   \n",
       "98  392491    Theresa       29.60           57.0            6.99   51015.0   \n",
       "99  495141      Tammy       38.38           55.0            2.26   93650.0   \n",
       "\n",
       "            City  \n",
       "94      Mapleton  \n",
       "95        Biloxi  \n",
       "96  Carol Stream  \n",
       "97       Detroit  \n",
       "98      Mc Grath  \n",
       "99          Alma  "
      ]
     },
     "execution_count": 4,
     "metadata": {},
     "output_type": "execute_result"
    }
   ],
   "source": [
    "df.tail(6)"
   ]
  },
  {
   "cell_type": "code",
   "execution_count": 5,
   "id": "5274d861",
   "metadata": {},
   "outputs": [
    {
     "name": "stdout",
     "output_type": "stream",
     "text": [
      "Shape of the dataset is : (100, 7)\n",
      "\n",
      "No of rows present in dataset is:  100\n",
      "\n",
      "No of columns present in dataset is:  7\n"
     ]
    }
   ],
   "source": [
    "#check shape of the dataset\n",
    "\n",
    "size=df.shape\n",
    "print(f\"Shape of the dataset is : {size}\")\n",
    "print()\n",
    "\n",
    "print(\"No of rows present in dataset is: \", size[0])\n",
    "print()\n",
    "\n",
    "print(\"No of columns present in dataset is: \", size[1])"
   ]
  },
  {
   "cell_type": "code",
   "execution_count": 6,
   "id": "7c771499",
   "metadata": {},
   "outputs": [
    {
     "name": "stdout",
     "output_type": "stream",
     "text": [
      "Index(['Emp ID', 'First Name', 'Age in Yrs', 'Weight in Kgs', 'Age in Company',\n",
      "       'Salary', 'City'],\n",
      "      dtype='object')\n",
      "\n",
      "RangeIndex(start=0, stop=100, step=1)\n"
     ]
    }
   ],
   "source": [
    "#checking no.of columns and rows present in dataset\n",
    "\n",
    "print(df.columns)\n",
    "\n",
    "print()\n",
    "\n",
    "print(df.index)"
   ]
  },
  {
   "cell_type": "code",
   "execution_count": 7,
   "id": "92da9c08",
   "metadata": {},
   "outputs": [
    {
     "data": {
      "text/plain": [
       "Emp ID              int64\n",
       "First Name         object\n",
       "Age in Yrs        float64\n",
       "Weight in Kgs     float64\n",
       "Age in Company    float64\n",
       "Salary            float64\n",
       "City               object\n",
       "dtype: object"
      ]
     },
     "execution_count": 7,
     "metadata": {},
     "output_type": "execute_result"
    }
   ],
   "source": [
    "#checking the data types of each feature\n",
    "\n",
    "df.dtypes"
   ]
  },
  {
   "cell_type": "code",
   "execution_count": 8,
   "id": "3d9b68b6",
   "metadata": {},
   "outputs": [
    {
     "name": "stdout",
     "output_type": "stream",
     "text": [
      "<class 'pandas.core.frame.DataFrame'>\n",
      "RangeIndex: 100 entries, 0 to 99\n",
      "Data columns (total 7 columns):\n",
      " #   Column          Non-Null Count  Dtype  \n",
      "---  ------          --------------  -----  \n",
      " 0   Emp ID          100 non-null    int64  \n",
      " 1   First Name      100 non-null    object \n",
      " 2   Age in Yrs      99 non-null     float64\n",
      " 3   Weight in Kgs   97 non-null     float64\n",
      " 4   Age in Company  98 non-null     float64\n",
      " 5   Salary          95 non-null     float64\n",
      " 6   City            99 non-null     object \n",
      "dtypes: float64(4), int64(1), object(2)\n",
      "memory usage: 5.6+ KB\n"
     ]
    }
   ],
   "source": [
    "#checking the features and data types of all features with non null count using info() function\n",
    "\n",
    "df.info()"
   ]
  },
  {
   "cell_type": "code",
   "execution_count": 9,
   "id": "3b9cf45b",
   "metadata": {},
   "outputs": [
    {
     "data": {
      "text/html": [
       "<div>\n",
       "<style scoped>\n",
       "    .dataframe tbody tr th:only-of-type {\n",
       "        vertical-align: middle;\n",
       "    }\n",
       "\n",
       "    .dataframe tbody tr th {\n",
       "        vertical-align: top;\n",
       "    }\n",
       "\n",
       "    .dataframe thead th {\n",
       "        text-align: right;\n",
       "    }\n",
       "</style>\n",
       "<table border=\"1\" class=\"dataframe\">\n",
       "  <thead>\n",
       "    <tr style=\"text-align: right;\">\n",
       "      <th></th>\n",
       "      <th>Emp ID</th>\n",
       "      <th>Age in Yrs</th>\n",
       "      <th>Weight in Kgs</th>\n",
       "      <th>Age in Company</th>\n",
       "      <th>Salary</th>\n",
       "    </tr>\n",
       "  </thead>\n",
       "  <tbody>\n",
       "    <tr>\n",
       "      <th>count</th>\n",
       "      <td>100.000000</td>\n",
       "      <td>99.000000</td>\n",
       "      <td>97.000000</td>\n",
       "      <td>98.000000</td>\n",
       "      <td>95.000000</td>\n",
       "    </tr>\n",
       "    <tr>\n",
       "      <th>mean</th>\n",
       "      <td>547072.910000</td>\n",
       "      <td>39.261717</td>\n",
       "      <td>59.587629</td>\n",
       "      <td>9.112653</td>\n",
       "      <td>120237.831579</td>\n",
       "    </tr>\n",
       "    <tr>\n",
       "      <th>std</th>\n",
       "      <td>258335.597457</td>\n",
       "      <td>12.194945</td>\n",
       "      <td>18.588612</td>\n",
       "      <td>8.763156</td>\n",
       "      <td>45952.891831</td>\n",
       "    </tr>\n",
       "    <tr>\n",
       "      <th>min</th>\n",
       "      <td>134841.000000</td>\n",
       "      <td>21.100000</td>\n",
       "      <td>40.000000</td>\n",
       "      <td>0.070000</td>\n",
       "      <td>42005.000000</td>\n",
       "    </tr>\n",
       "    <tr>\n",
       "      <th>25%</th>\n",
       "      <td>328643.750000</td>\n",
       "      <td>28.125000</td>\n",
       "      <td>51.000000</td>\n",
       "      <td>2.267500</td>\n",
       "      <td>84869.000000</td>\n",
       "    </tr>\n",
       "    <tr>\n",
       "      <th>50%</th>\n",
       "      <td>493542.000000</td>\n",
       "      <td>37.570000</td>\n",
       "      <td>56.000000</td>\n",
       "      <td>6.435000</td>\n",
       "      <td>117642.000000</td>\n",
       "    </tr>\n",
       "    <tr>\n",
       "      <th>75%</th>\n",
       "      <td>766040.000000</td>\n",
       "      <td>49.950000</td>\n",
       "      <td>62.000000</td>\n",
       "      <td>13.927500</td>\n",
       "      <td>162859.500000</td>\n",
       "    </tr>\n",
       "    <tr>\n",
       "      <th>max</th>\n",
       "      <td>979607.000000</td>\n",
       "      <td>59.470000</td>\n",
       "      <td>200.000000</td>\n",
       "      <td>34.520000</td>\n",
       "      <td>197537.000000</td>\n",
       "    </tr>\n",
       "  </tbody>\n",
       "</table>\n",
       "</div>"
      ],
      "text/plain": [
       "              Emp ID  Age in Yrs  Weight in Kgs  Age in Company         Salary\n",
       "count     100.000000   99.000000      97.000000       98.000000      95.000000\n",
       "mean   547072.910000   39.261717      59.587629        9.112653  120237.831579\n",
       "std    258335.597457   12.194945      18.588612        8.763156   45952.891831\n",
       "min    134841.000000   21.100000      40.000000        0.070000   42005.000000\n",
       "25%    328643.750000   28.125000      51.000000        2.267500   84869.000000\n",
       "50%    493542.000000   37.570000      56.000000        6.435000  117642.000000\n",
       "75%    766040.000000   49.950000      62.000000       13.927500  162859.500000\n",
       "max    979607.000000   59.470000     200.000000       34.520000  197537.000000"
      ]
     },
     "execution_count": 9,
     "metadata": {},
     "output_type": "execute_result"
    }
   ],
   "source": [
    "#Using describe() pandas function which will give quick summary of statistical representation\n",
    "\n",
    "df.describe()"
   ]
  },
  {
   "cell_type": "code",
   "execution_count": 81,
   "id": "4a10c2a0",
   "metadata": {},
   "outputs": [
    {
     "data": {
      "text/html": [
       "<div>\n",
       "<style scoped>\n",
       "    .dataframe tbody tr th:only-of-type {\n",
       "        vertical-align: middle;\n",
       "    }\n",
       "\n",
       "    .dataframe tbody tr th {\n",
       "        vertical-align: top;\n",
       "    }\n",
       "\n",
       "    .dataframe thead th {\n",
       "        text-align: right;\n",
       "    }\n",
       "</style>\n",
       "<table border=\"1\" class=\"dataframe\">\n",
       "  <thead>\n",
       "    <tr style=\"text-align: right;\">\n",
       "      <th></th>\n",
       "      <th>Emp ID</th>\n",
       "      <th>First Name</th>\n",
       "      <th>Age in Yrs</th>\n",
       "      <th>Weight in Kgs</th>\n",
       "      <th>Age in Company</th>\n",
       "      <th>Salary</th>\n",
       "      <th>City</th>\n",
       "    </tr>\n",
       "  </thead>\n",
       "  <tbody>\n",
       "    <tr>\n",
       "      <th>14</th>\n",
       "      <td>441771</td>\n",
       "      <td>Cheryl</td>\n",
       "      <td>59.47</td>\n",
       "      <td>56.0</td>\n",
       "      <td>26.69</td>\n",
       "      <td>92220.0</td>\n",
       "      <td>Quecreek</td>\n",
       "    </tr>\n",
       "    <tr>\n",
       "      <th>21</th>\n",
       "      <td>969580</td>\n",
       "      <td>Matthew</td>\n",
       "      <td>23.77</td>\n",
       "      <td>56.0</td>\n",
       "      <td>1.47</td>\n",
       "      <td>52237.0</td>\n",
       "      <td>Heathsville</td>\n",
       "    </tr>\n",
       "  </tbody>\n",
       "</table>\n",
       "</div>"
      ],
      "text/plain": [
       "    Emp ID First Name  Age in Yrs  Weight in Kgs  Age in Company   Salary  \\\n",
       "14  441771     Cheryl       59.47           56.0           26.69  92220.0   \n",
       "21  969580    Matthew       23.77           56.0            1.47  52237.0   \n",
       "\n",
       "                  City  \n",
       "14            Quecreek  \n",
       "21         Heathsville  "
      ]
     },
     "execution_count": 81,
     "metadata": {},
     "output_type": "execute_result"
    }
   ],
   "source": [
    "#Checking duplicate entries\n",
    "duplicate=df[df.duplicated()]\n",
    "duplicate"
   ]
  },
  {
   "cell_type": "code",
   "execution_count": 68,
   "id": "99c64150",
   "metadata": {},
   "outputs": [
    {
     "data": {
      "text/plain": [
       "Emp ID            0.00\n",
       "First Name        0.00\n",
       "Age in Yrs        0.01\n",
       "Weight in Kgs     0.03\n",
       "Age in Company    0.02\n",
       "Salary            0.05\n",
       "City              0.01\n",
       "dtype: float64"
      ]
     },
     "execution_count": 68,
     "metadata": {},
     "output_type": "execute_result"
    }
   ],
   "source": [
    "#Checking the presentage of missing values present in dataset\n",
    "\n",
    "df.isnull().mean()"
   ]
  },
  {
   "cell_type": "code",
   "execution_count": 69,
   "id": "5d95ae6f",
   "metadata": {},
   "outputs": [
    {
     "data": {
      "text/plain": [
       "Emp ID            0\n",
       "First Name        0\n",
       "Age in Yrs        1\n",
       "Weight in Kgs     3\n",
       "Age in Company    2\n",
       "Salary            5\n",
       "City              1\n",
       "dtype: int64"
      ]
     },
     "execution_count": 69,
     "metadata": {},
     "output_type": "execute_result"
    }
   ],
   "source": [
    "#Checking the number of missing values present in dataset\n",
    "\n",
    "df.isna().sum()"
   ]
  },
  {
   "cell_type": "code",
   "execution_count": 13,
   "id": "7a04b08d",
   "metadata": {},
   "outputs": [
    {
     "data": {
      "text/plain": [
       "1"
      ]
     },
     "execution_count": 13,
     "metadata": {},
     "output_type": "execute_result"
    }
   ],
   "source": [
    "#Checking the missing value count indivually\n",
    "\n",
    "df[\"Age in Yrs\"].isna().sum()"
   ]
  },
  {
   "cell_type": "code",
   "execution_count": 14,
   "id": "f40de637",
   "metadata": {},
   "outputs": [
    {
     "data": {
      "text/plain": [
       "5"
      ]
     },
     "execution_count": 14,
     "metadata": {},
     "output_type": "execute_result"
    }
   ],
   "source": [
    "df[\"Salary\"].isna().sum()"
   ]
  },
  {
   "cell_type": "code",
   "execution_count": null,
   "id": "08ff708c",
   "metadata": {},
   "outputs": [],
   "source": [
    "Techniques used in outliers detection:\n",
    "    \n",
    "1)Z-Score\n",
    "2)IQR\n",
    "3)Boxplot"
   ]
  },
  {
   "cell_type": "code",
   "execution_count": 16,
   "id": "8a57d147",
   "metadata": {},
   "outputs": [
    {
     "data": {
      "text/plain": [
       "<AxesSubplot:>"
      ]
     },
     "execution_count": 16,
     "metadata": {},
     "output_type": "execute_result"
    },
    {
     "data": {
      "image/png": "[encoded data removed]",
      "text/plain": [
       "<Figure size 432x288 with 1 Axes>"
      ]
     },
     "metadata": {
      "needs_background": "light"
     },
     "output_type": "display_data"
    }
   ],
   "source": [
    "df.boxplot()"
   ]
  },
  {
   "cell_type": "markdown",
   "id": "e01c35dd",
   "metadata": {},
   "source": [
    "No outliers present in \"Emp_data_NAN\" dataset so for outlier detection we are using another dataset"
   ]
  },
  {
   "cell_type": "code",
   "execution_count": 24,
   "id": "5f1f828c",
   "metadata": {},
   "outputs": [
    {
     "data": {
      "text/html": [
       "<div>\n",
       "<style scoped>\n",
       "    .dataframe tbody tr th:only-of-type {\n",
       "        vertical-align: middle;\n",
       "    }\n",
       "\n",
       "    .dataframe tbody tr th {\n",
       "        vertical-align: top;\n",
       "    }\n",
       "\n",
       "    .dataframe thead th {\n",
       "        text-align: right;\n",
       "    }\n",
       "</style>\n",
       "<table border=\"1\" class=\"dataframe\">\n",
       "  <thead>\n",
       "    <tr style=\"text-align: right;\">\n",
       "      <th></th>\n",
       "      <th>Glucose</th>\n",
       "      <th>BloodPressure</th>\n",
       "      <th>SkinThickness</th>\n",
       "      <th>Insulin</th>\n",
       "      <th>BMI</th>\n",
       "      <th>DiabetesPedigreeFunction</th>\n",
       "      <th>Age</th>\n",
       "      <th>Outcome</th>\n",
       "    </tr>\n",
       "  </thead>\n",
       "  <tbody>\n",
       "    <tr>\n",
       "      <th>0</th>\n",
       "      <td>148</td>\n",
       "      <td>50</td>\n",
       "      <td>35</td>\n",
       "      <td>0</td>\n",
       "      <td>33.6</td>\n",
       "      <td>0.627</td>\n",
       "      <td>50</td>\n",
       "      <td>1</td>\n",
       "    </tr>\n",
       "    <tr>\n",
       "      <th>1</th>\n",
       "      <td>85</td>\n",
       "      <td>66</td>\n",
       "      <td>29</td>\n",
       "      <td>0</td>\n",
       "      <td>26.6</td>\n",
       "      <td>0.351</td>\n",
       "      <td>31</td>\n",
       "      <td>0</td>\n",
       "    </tr>\n",
       "    <tr>\n",
       "      <th>2</th>\n",
       "      <td>183</td>\n",
       "      <td>64</td>\n",
       "      <td>0</td>\n",
       "      <td>0</td>\n",
       "      <td>23.3</td>\n",
       "      <td>0.672</td>\n",
       "      <td>52</td>\n",
       "      <td>1</td>\n",
       "    </tr>\n",
       "    <tr>\n",
       "      <th>3</th>\n",
       "      <td>150</td>\n",
       "      <td>66</td>\n",
       "      <td>23</td>\n",
       "      <td>94</td>\n",
       "      <td>28.1</td>\n",
       "      <td>0.167</td>\n",
       "      <td>21</td>\n",
       "      <td>0</td>\n",
       "    </tr>\n",
       "    <tr>\n",
       "      <th>4</th>\n",
       "      <td>150</td>\n",
       "      <td>40</td>\n",
       "      <td>35</td>\n",
       "      <td>168</td>\n",
       "      <td>43.1</td>\n",
       "      <td>2.288</td>\n",
       "      <td>33</td>\n",
       "      <td>1</td>\n",
       "    </tr>\n",
       "  </tbody>\n",
       "</table>\n",
       "</div>"
      ],
      "text/plain": [
       "   Glucose  BloodPressure  SkinThickness  Insulin   BMI  \\\n",
       "0      148             50             35        0  33.6   \n",
       "1       85             66             29        0  26.6   \n",
       "2      183             64              0        0  23.3   \n",
       "3      150             66             23       94  28.1   \n",
       "4      150             40             35      168  43.1   \n",
       "\n",
       "   DiabetesPedigreeFunction  Age  Outcome  \n",
       "0                     0.627   50        1  \n",
       "1                     0.351   31        0  \n",
       "2                     0.672   52        1  \n",
       "3                     0.167   21        0  \n",
       "4                     2.288   33        1  "
      ]
     },
     "execution_count": 24,
     "metadata": {},
     "output_type": "execute_result"
    }
   ],
   "source": [
    "df1=pd.read_csv(\"diabetes.csv\")\n",
    "df1.head()"
   ]
  },
  {
   "cell_type": "code",
   "execution_count": 100,
   "id": "a1fae337",
   "metadata": {},
   "outputs": [
    {
     "data": {
      "image/png": "[encoded data removed]",
      "text/plain": [
       "<Figure size 720x360 with 1 Axes>"
      ]
     },
     "metadata": {
      "needs_background": "light"
     },
     "output_type": "display_data"
    }
   ],
   "source": [
    "#boxplot: visualization method\n",
    "\n",
    "plt.figure(figsize=(10,5))\n",
    "df1.boxplot()\n",
    "plt.show()"
   ]
  },
  {
   "cell_type": "markdown",
   "id": "548a41e4",
   "metadata": {},
   "source": [
    "By visually we can see outliers present at \"Insulin\", \"BMI\", \"Age \" columns"
   ]
  },
  {
   "cell_type": "code",
   "execution_count": 101,
   "id": "f0172385",
   "metadata": {},
   "outputs": [
    {
     "data": {
      "text/plain": [
       "<AxesSubplot:>"
      ]
     },
     "execution_count": 101,
     "metadata": {},
     "output_type": "execute_result"
    },
    {
     "data": {
      "image/png": "[encoded data removed]",
      "text/plain": [
       "<Figure size 432x288 with 1 Axes>"
      ]
     },
     "metadata": {
      "needs_background": "light"
     },
     "output_type": "display_data"
    }
   ],
   "source": [
    "df1[[\"Insulin\"]].boxplot()"
   ]
  },
  {
   "cell_type": "code",
   "execution_count": 102,
   "id": "cd01b179",
   "metadata": {},
   "outputs": [
    {
     "data": {
      "text/plain": [
       "<AxesSubplot:>"
      ]
     },
     "execution_count": 102,
     "metadata": {},
     "output_type": "execute_result"
    },
    {
     "data": {
      "image/png": "[encoded data removed]",
      "text/plain": [
       "<Figure size 432x288 with 1 Axes>"
      ]
     },
     "metadata": {
      "needs_background": "light"
     },
     "output_type": "display_data"
    }
   ],
   "source": [
    "df1[[\"BMI\"]].boxplot()"
   ]
  },
  {
   "cell_type": "code",
   "execution_count": 103,
   "id": "d67c465c",
   "metadata": {},
   "outputs": [
    {
     "data": {
      "text/plain": [
       "<AxesSubplot:>"
      ]
     },
     "execution_count": 103,
     "metadata": {},
     "output_type": "execute_result"
    },
    {
     "data": {
      "image/png": "[encoded data removed]",
      "text/plain": [
       "<Figure size 432x288 with 1 Axes>"
      ]
     },
     "metadata": {
      "needs_background": "light"
     },
     "output_type": "display_data"
    }
   ],
   "source": [
    "df1[[\"Age\"]].boxplot()"
   ]
  },
  {
   "cell_type": "code",
   "execution_count": 104,
   "id": "686e2371",
   "metadata": {},
   "outputs": [
    {
     "name": "stdout",
     "output_type": "stream",
     "text": [
      "8      543\n",
      "13     846\n",
      "111    495\n",
      "153    485\n",
      "186    495\n",
      "220    478\n",
      "228    744\n",
      "247    680\n",
      "286    545\n",
      "370    465\n",
      "409    579\n",
      "415    474\n",
      "486    480\n",
      "584    600\n",
      "645    440\n",
      "655    540\n",
      "695    480\n",
      "753    510\n",
      "Name: Insulin, dtype: int64\n"
     ]
    }
   ],
   "source": [
    "from scipy.stats import zscore\n",
    "\n",
    "def outlier(df1):\n",
    "    threshold=3\n",
    "    z_score=zscore(df1[\"Insulin\"])\n",
    "    index=np.where(np.abs(z_score)>threshold)\n",
    "    print(df1[\"Insulin\"].iloc[index])\n",
    "    \n",
    "    \n",
    "outlier(df1)"
   ]
  },
  {
   "cell_type": "code",
   "execution_count": 105,
   "id": "677ba4ac",
   "metadata": {},
   "outputs": [
    {
     "name": "stdout",
     "output_type": "stream",
     "text": [
      "9       0.0\n",
      "49      0.0\n",
      "60      0.0\n",
      "81      0.0\n",
      "145     0.0\n",
      "177    67.1\n",
      "371     0.0\n",
      "426     0.0\n",
      "445    59.4\n",
      "494     0.0\n",
      "522     0.0\n",
      "673    57.3\n",
      "684     0.0\n",
      "706     0.0\n",
      "Name: BMI, dtype: float64\n"
     ]
    }
   ],
   "source": [
    "from scipy.stats import zscore\n",
    "\n",
    "def outlier(df1):\n",
    "    threshold=3\n",
    "    z_score=zscore(df1[\"BMI\"])\n",
    "    index=np.where(np.abs(z_score)>threshold)\n",
    "    print(df1[\"BMI\"].iloc[index])\n",
    "    \n",
    "    \n",
    "outlier(df1)"
   ]
  },
  {
   "cell_type": "code",
   "execution_count": 106,
   "id": "3e49e62e",
   "metadata": {},
   "outputs": [
    {
     "name": "stdout",
     "output_type": "stream",
     "text": [
      "123    69\n",
      "453    72\n",
      "459    81\n",
      "666    70\n",
      "684    69\n",
      "Name: Age, dtype: int64\n"
     ]
    }
   ],
   "source": [
    "from scipy.stats import zscore\n",
    "\n",
    "def outlier(df1):\n",
    "    threshold=3\n",
    "    z_score=zscore(df1[\"Age\"])\n",
    "    index=np.where(np.abs(z_score)>threshold)\n",
    "    print(df1[\"Age\"].iloc[index])\n",
    "    \n",
    "    \n",
    "outlier(df1)"
   ]
  },
  {
   "cell_type": "code",
   "execution_count": 107,
   "id": "90cad932",
   "metadata": {},
   "outputs": [
    {
     "name": "stdout",
     "output_type": "stream",
     "text": [
      "Upper tail of Insulin column:  318.125\n",
      "\n",
      "Lower tail of Insulin column:  -190.875\n"
     ]
    }
   ],
   "source": [
    "#iqr method\n",
    "\n",
    "q1=df1[\"Insulin\"].quantile(0.25)\n",
    "q2=df1[\"Insulin\"].quantile(0.75)\n",
    "\n",
    "iqr=q2-q1\n",
    "\n",
    "upper_tail_Insulin=q2 + (1.5* iqr)\n",
    "lower_tail_Insulin=q1 - (1.5*iqr)\n",
    "\n",
    "print(\"Upper tail of Insulin column: \",upper_tail_Insulin)\n",
    "print()\n",
    "print(\"Lower tail of Insulin column: \",lower_tail_Insulin)"
   ]
  },
  {
   "cell_type": "code",
   "execution_count": 108,
   "id": "86a66926",
   "metadata": {},
   "outputs": [
    {
     "data": {
      "text/plain": [
       "8      543\n",
       "13     846\n",
       "54     342\n",
       "111    495\n",
       "139    325\n",
       "153    485\n",
       "186    495\n",
       "220    478\n",
       "228    744\n",
       "231    370\n",
       "247    680\n",
       "248    402\n",
       "258    375\n",
       "286    545\n",
       "296    360\n",
       "360    325\n",
       "370    465\n",
       "375    325\n",
       "392    415\n",
       "409    579\n",
       "415    474\n",
       "480    328\n",
       "486    480\n",
       "519    326\n",
       "574    330\n",
       "584    600\n",
       "612    321\n",
       "645    440\n",
       "655    540\n",
       "695    480\n",
       "707    335\n",
       "710    387\n",
       "715    392\n",
       "753    510\n",
       "Name: Insulin, dtype: int64"
      ]
     },
     "execution_count": 108,
     "metadata": {},
     "output_type": "execute_result"
    }
   ],
   "source": [
    "df1[\"Insulin\"].loc[df1[\"Insulin\"]>upper_tail_Insulin]"
   ]
  },
  {
   "cell_type": "code",
   "execution_count": 37,
   "id": "6e033a09",
   "metadata": {},
   "outputs": [
    {
     "data": {
      "text/plain": [
       "Series([], Name: Insulin, dtype: int64)"
      ]
     },
     "execution_count": 37,
     "metadata": {},
     "output_type": "execute_result"
    }
   ],
   "source": [
    "df1[\"Insulin\"].loc[df1[\"Insulin\"]<lower_tail_Insulin]"
   ]
  },
  {
   "cell_type": "code",
   "execution_count": 109,
   "id": "cc4efe3a",
   "metadata": {},
   "outputs": [
    {
     "name": "stdout",
     "output_type": "stream",
     "text": [
      "Upper tail of BMI column:  51.0\n",
      "\n",
      "Lower tail of BMI column:  13.35\n"
     ]
    }
   ],
   "source": [
    "q1=df1[\"BMI\"].quantile(0.25)\n",
    "q2=df1[\"BMI\"].quantile(0.75)\n",
    "\n",
    "iqr=q2-q1\n",
    "\n",
    "upper_tail_BMI=q2 + (1.5* iqr)\n",
    "lower_tail_BMI=q1 - (1.5*iqr)\n",
    "\n",
    "print(\"Upper tail of BMI column: \",np.ceil(upper_tail_BMI))\n",
    "print()\n",
    "print(\"Lower tail of BMI column: \",lower_tail_BMI)"
   ]
  },
  {
   "cell_type": "code",
   "execution_count": 41,
   "id": "5b2ff8fc",
   "metadata": {},
   "outputs": [
    {
     "data": {
      "text/plain": [
       "120    53.2\n",
       "125    55.0\n",
       "177    67.1\n",
       "193    52.3\n",
       "247    52.3\n",
       "303    52.9\n",
       "445    59.4\n",
       "673    57.3\n",
       "Name: BMI, dtype: float64"
      ]
     },
     "execution_count": 41,
     "metadata": {},
     "output_type": "execute_result"
    }
   ],
   "source": [
    "df1[\"BMI\"].loc[df1[\"BMI\"]>upper_tail_BMI]"
   ]
  },
  {
   "cell_type": "code",
   "execution_count": 45,
   "id": "e2f13b6c",
   "metadata": {},
   "outputs": [
    {
     "name": "stdout",
     "output_type": "stream",
     "text": [
      "Upper tail of Age column:  67.0\n",
      "\n",
      "Lower tail of Age column:  -1.5\n"
     ]
    }
   ],
   "source": [
    "q1=df1[\"Age\"].quantile(0.25)\n",
    "q2=df1[\"Age\"].quantile(0.75)\n",
    "\n",
    "iqr=q2-q1\n",
    "\n",
    "upper_tail_Age=q2 + (1.5* iqr)\n",
    "lower_tail_Age=q1 - (1.5*iqr)\n",
    "\n",
    "print(\"Upper tail of Age column: \",np.ceil(upper_tail_Age))\n",
    "print()\n",
    "print(\"Lower tail of Age column: \",lower_tail_Age)"
   ]
  },
  {
   "cell_type": "code",
   "execution_count": 46,
   "id": "e7c29e08",
   "metadata": {},
   "outputs": [
    {
     "data": {
      "text/plain": [
       "123    69\n",
       "363    67\n",
       "453    72\n",
       "459    81\n",
       "489    67\n",
       "537    67\n",
       "666    70\n",
       "674    68\n",
       "684    69\n",
       "Name: Age, dtype: int64"
      ]
     },
     "execution_count": 46,
     "metadata": {},
     "output_type": "execute_result"
    }
   ],
   "source": [
    "df1[\"Age\"].loc[df1[\"Age\"]>upper_tail_Age]"
   ]
  },
  {
   "cell_type": "markdown",
   "id": "98d1e5cd",
   "metadata": {},
   "source": [
    "Data Balancing"
   ]
  },
  {
   "cell_type": "code",
   "execution_count": 47,
   "id": "7a262342",
   "metadata": {},
   "outputs": [
    {
     "data": {
      "text/plain": [
       "0    500\n",
       "1    268\n",
       "Name: Outcome, dtype: int64"
      ]
     },
     "execution_count": 47,
     "metadata": {},
     "output_type": "execute_result"
    }
   ],
   "source": [
    "#checking data is balanced or not\n",
    "\n",
    "df1[\"Outcome\"].value_counts()"
   ]
  },
  {
   "cell_type": "markdown",
   "id": "72cb04f3",
   "metadata": {},
   "source": [
    "Data is fully imbalanced"
   ]
  },
  {
   "cell_type": "code",
   "execution_count": 26,
   "id": "586047a2",
   "metadata": {},
   "outputs": [
    {
     "data": {
      "text/plain": [
       "<AxesSubplot:xlabel='Outcome', ylabel='count'>"
      ]
     },
     "execution_count": 26,
     "metadata": {},
     "output_type": "execute_result"
    },
    {
     "data": {
      "image/png": "[encoded data removed]",
      "text/plain": [
       "<Figure size 432x288 with 1 Axes>"
      ]
     },
     "metadata": {
      "needs_background": "light"
     },
     "output_type": "display_data"
    }
   ],
   "source": [
    "sns.countplot(x=df1[\"Outcome\"])"
   ]
  },
  {
   "cell_type": "markdown",
   "id": "72b3d224",
   "metadata": {},
   "source": [
    "# Feature Engineering"
   ]
  },
  {
   "cell_type": "code",
   "execution_count": null,
   "id": "dca435ff",
   "metadata": {},
   "outputs": [],
   "source": [
    "1)Drop Duplicate entries\n",
    "2)Missing Value handling\n",
    "3)Outliers handling\n",
    "4)Encoding\n",
    "5)Data balancing\n",
    "6)Feature Scalling"
   ]
  },
  {
   "cell_type": "code",
   "execution_count": 82,
   "id": "76d849b9",
   "metadata": {},
   "outputs": [],
   "source": [
    "#Droping duplicate entries\n",
    "\n",
    "df.drop_duplicates(inplace=True)"
   ]
  },
  {
   "cell_type": "code",
   "execution_count": 83,
   "id": "8d034ad9",
   "metadata": {},
   "outputs": [
    {
     "data": {
      "text/html": [
       "<div>\n",
       "<style scoped>\n",
       "    .dataframe tbody tr th:only-of-type {\n",
       "        vertical-align: middle;\n",
       "    }\n",
       "\n",
       "    .dataframe tbody tr th {\n",
       "        vertical-align: top;\n",
       "    }\n",
       "\n",
       "    .dataframe thead th {\n",
       "        text-align: right;\n",
       "    }\n",
       "</style>\n",
       "<table border=\"1\" class=\"dataframe\">\n",
       "  <thead>\n",
       "    <tr style=\"text-align: right;\">\n",
       "      <th></th>\n",
       "      <th>Emp ID</th>\n",
       "      <th>First Name</th>\n",
       "      <th>Age in Yrs</th>\n",
       "      <th>Weight in Kgs</th>\n",
       "      <th>Age in Company</th>\n",
       "      <th>Salary</th>\n",
       "      <th>City</th>\n",
       "    </tr>\n",
       "  </thead>\n",
       "  <tbody>\n",
       "  </tbody>\n",
       "</table>\n",
       "</div>"
      ],
      "text/plain": [
       "Empty DataFrame\n",
       "Columns: [Emp ID, First Name, Age in Yrs, Weight in Kgs, Age in Company, Salary, City]\n",
       "Index: []"
      ]
     },
     "execution_count": 83,
     "metadata": {},
     "output_type": "execute_result"
    }
   ],
   "source": [
    "duplicate=df[df.duplicated()]\n",
    "duplicate"
   ]
  },
  {
   "cell_type": "code",
   "execution_count": null,
   "id": "93862f83",
   "metadata": {},
   "outputs": [],
   "source": [
    "# misssing value handling\n",
    "\n",
    "1)Deletion method\n",
    "2)Imputation method"
   ]
  },
  {
   "cell_type": "code",
   "execution_count": 49,
   "id": "3d0bb4e3",
   "metadata": {},
   "outputs": [
    {
     "data": {
      "text/plain": [
       "Emp ID            0.0\n",
       "First Name        0.0\n",
       "Age in Yrs        0.0\n",
       "Weight in Kgs     0.0\n",
       "Age in Company    0.0\n",
       "Salary            0.0\n",
       "City              0.0\n",
       "dtype: float64"
      ]
     },
     "execution_count": 49,
     "metadata": {},
     "output_type": "execute_result"
    }
   ],
   "source": [
    "#deletion method\n",
    "\n",
    "df_without_NAN=df.dropna()\n",
    "df_without_NAN.isna().mean()"
   ]
  },
  {
   "cell_type": "markdown",
   "id": "974d9d2f",
   "metadata": {},
   "source": [
    "Here we are deleting all NAN values from the dataset"
   ]
  },
  {
   "cell_type": "code",
   "execution_count": 51,
   "id": "62be3a20",
   "metadata": {},
   "outputs": [
    {
     "data": {
      "text/html": [
       "<div>\n",
       "<style scoped>\n",
       "    .dataframe tbody tr th:only-of-type {\n",
       "        vertical-align: middle;\n",
       "    }\n",
       "\n",
       "    .dataframe tbody tr th {\n",
       "        vertical-align: top;\n",
       "    }\n",
       "\n",
       "    .dataframe thead th {\n",
       "        text-align: right;\n",
       "    }\n",
       "</style>\n",
       "<table border=\"1\" class=\"dataframe\">\n",
       "  <thead>\n",
       "    <tr style=\"text-align: right;\">\n",
       "      <th></th>\n",
       "      <th>Emp ID</th>\n",
       "      <th>First Name</th>\n",
       "      <th>Age in Yrs</th>\n",
       "      <th>Age in Company</th>\n",
       "      <th>City</th>\n",
       "    </tr>\n",
       "  </thead>\n",
       "  <tbody>\n",
       "    <tr>\n",
       "      <th>0</th>\n",
       "      <td>677509</td>\n",
       "      <td>Lois</td>\n",
       "      <td>36.36</td>\n",
       "      <td>13.68</td>\n",
       "      <td>Denver</td>\n",
       "    </tr>\n",
       "    <tr>\n",
       "      <th>1</th>\n",
       "      <td>441771</td>\n",
       "      <td>Cheryl</td>\n",
       "      <td>59.47</td>\n",
       "      <td>26.69</td>\n",
       "      <td>Quecreek</td>\n",
       "    </tr>\n",
       "    <tr>\n",
       "      <th>2</th>\n",
       "      <td>428945</td>\n",
       "      <td>Joe</td>\n",
       "      <td>54.15</td>\n",
       "      <td>NaN</td>\n",
       "      <td>Michigantown</td>\n",
       "    </tr>\n",
       "    <tr>\n",
       "      <th>3</th>\n",
       "      <td>408351</td>\n",
       "      <td>Diane</td>\n",
       "      <td>39.67</td>\n",
       "      <td>18.30</td>\n",
       "      <td>NaN</td>\n",
       "    </tr>\n",
       "    <tr>\n",
       "      <th>4</th>\n",
       "      <td>193819</td>\n",
       "      <td>Benjamin</td>\n",
       "      <td>40.31</td>\n",
       "      <td>4.01</td>\n",
       "      <td>Fremont</td>\n",
       "    </tr>\n",
       "    <tr>\n",
       "      <th>...</th>\n",
       "      <td>...</td>\n",
       "      <td>...</td>\n",
       "      <td>...</td>\n",
       "      <td>...</td>\n",
       "      <td>...</td>\n",
       "    </tr>\n",
       "    <tr>\n",
       "      <th>95</th>\n",
       "      <td>639892</td>\n",
       "      <td>Jose</td>\n",
       "      <td>22.82</td>\n",
       "      <td>1.05</td>\n",
       "      <td>Biloxi</td>\n",
       "    </tr>\n",
       "    <tr>\n",
       "      <th>96</th>\n",
       "      <td>704709</td>\n",
       "      <td>Harold</td>\n",
       "      <td>32.61</td>\n",
       "      <td>5.93</td>\n",
       "      <td>Carol Stream</td>\n",
       "    </tr>\n",
       "    <tr>\n",
       "      <th>97</th>\n",
       "      <td>461593</td>\n",
       "      <td>Nicole</td>\n",
       "      <td>52.66</td>\n",
       "      <td>28.53</td>\n",
       "      <td>Detroit</td>\n",
       "    </tr>\n",
       "    <tr>\n",
       "      <th>98</th>\n",
       "      <td>392491</td>\n",
       "      <td>Theresa</td>\n",
       "      <td>29.60</td>\n",
       "      <td>6.99</td>\n",
       "      <td>Mc Grath</td>\n",
       "    </tr>\n",
       "    <tr>\n",
       "      <th>99</th>\n",
       "      <td>495141</td>\n",
       "      <td>Tammy</td>\n",
       "      <td>38.38</td>\n",
       "      <td>2.26</td>\n",
       "      <td>Alma</td>\n",
       "    </tr>\n",
       "  </tbody>\n",
       "</table>\n",
       "<p>100 rows × 5 columns</p>\n",
       "</div>"
      ],
      "text/plain": [
       "    Emp ID First Name  Age in Yrs  Age in Company                   City\n",
       "0   677509       Lois       36.36           13.68                 Denver\n",
       "1   441771     Cheryl       59.47           26.69               Quecreek\n",
       "2   428945        Joe       54.15             NaN  Michigantown         \n",
       "3   408351      Diane       39.67           18.30                    NaN\n",
       "4   193819   Benjamin       40.31            4.01                Fremont\n",
       "..     ...        ...         ...             ...                    ...\n",
       "95  639892       Jose       22.82            1.05                 Biloxi\n",
       "96  704709     Harold       32.61            5.93           Carol Stream\n",
       "97  461593     Nicole       52.66           28.53                Detroit\n",
       "98  392491    Theresa       29.60            6.99               Mc Grath\n",
       "99  495141      Tammy       38.38            2.26                   Alma\n",
       "\n",
       "[100 rows x 5 columns]"
      ]
     },
     "execution_count": 51,
     "metadata": {},
     "output_type": "execute_result"
    }
   ],
   "source": [
    "df.drop([\"Weight in Kgs\",\"Salary\"],axis=1)"
   ]
  },
  {
   "cell_type": "markdown",
   "id": "1d97ae7b",
   "metadata": {},
   "source": [
    "Here we are droping \"Weight in Kgs\" and \"Salary\" columns as those having more NAN count"
   ]
  },
  {
   "cell_type": "code",
   "execution_count": 70,
   "id": "a8803543",
   "metadata": {},
   "outputs": [
    {
     "data": {
      "text/plain": [
       "0"
      ]
     },
     "execution_count": 70,
     "metadata": {},
     "output_type": "execute_result"
    }
   ],
   "source": [
    "#imputation method: mean,median,mode\n",
    "\n",
    "df[\"Age in Yrs\"].fillna(df[\"Age in Yrs\"].mean(),inplace=True)\n",
    "df[\"Age in Yrs\"].isna().sum()"
   ]
  },
  {
   "cell_type": "markdown",
   "id": "a8d6fbe0",
   "metadata": {},
   "source": [
    "Here we are filling NAN values with its mean value"
   ]
  },
  {
   "cell_type": "code",
   "execution_count": 71,
   "id": "a1fb8b70",
   "metadata": {},
   "outputs": [
    {
     "data": {
      "text/plain": [
       "0"
      ]
     },
     "execution_count": 71,
     "metadata": {},
     "output_type": "execute_result"
    }
   ],
   "source": [
    "df[\"Age in Company\"].fillna(12,inplace=True)\n",
    "df[\"Age in Company\"].isna().sum()"
   ]
  },
  {
   "cell_type": "markdown",
   "id": "421a179a",
   "metadata": {},
   "source": [
    "Here we are filling NAN values with scaler value,but this will impact on our performane of the model"
   ]
  },
  {
   "cell_type": "code",
   "execution_count": 72,
   "id": "6947f422",
   "metadata": {},
   "outputs": [
    {
     "data": {
      "text/plain": [
       "Weight in Kgs    0\n",
       "Salary           0\n",
       "dtype: int64"
      ]
     },
     "execution_count": 72,
     "metadata": {},
     "output_type": "execute_result"
    }
   ],
   "source": [
    "df.fillna({\"Weight in Kgs\": df[\"Weight in Kgs\"].mean(),\"Salary\": df[\"Salary\"].mean()},inplace=True)\n",
    "df[[\"Weight in Kgs\",\"Salary\"]].isna().sum()"
   ]
  },
  {
   "cell_type": "code",
   "execution_count": 75,
   "id": "7e925c25",
   "metadata": {},
   "outputs": [
    {
     "data": {
      "text/plain": [
       "0"
      ]
     },
     "execution_count": 75,
     "metadata": {},
     "output_type": "execute_result"
    }
   ],
   "source": [
    "city_name=df[\"City\"].mode()[0]\n",
    "df[\"City\"].fillna(city_name,inplace=True)\n",
    "df[\"City\"].isna().sum()"
   ]
  },
  {
   "cell_type": "markdown",
   "id": "133f48d2",
   "metadata": {},
   "source": [
    "The  \"City\"  feature is categorical,hence we are filling those feature with mode value"
   ]
  },
  {
   "cell_type": "code",
   "execution_count": 76,
   "id": "55c70850",
   "metadata": {},
   "outputs": [
    {
     "data": {
      "text/plain": [
       "Emp ID            0\n",
       "First Name        0\n",
       "Age in Yrs        0\n",
       "Weight in Kgs     0\n",
       "Age in Company    0\n",
       "Salary            0\n",
       "City              0\n",
       "dtype: int64"
      ]
     },
     "execution_count": 76,
     "metadata": {},
     "output_type": "execute_result"
    }
   ],
   "source": [
    "df.isna().sum()"
   ]
  },
  {
   "cell_type": "markdown",
   "id": "3c235cc4",
   "metadata": {},
   "source": [
    "All NAN values are handled here, there will be no NAN value present"
   ]
  },
  {
   "cell_type": "code",
   "execution_count": null,
   "id": "9454df15",
   "metadata": {},
   "outputs": [],
   "source": [
    "#outlier handling method\n",
    "\n",
    "1)Deletion method\n",
    "2)Imputation method: median,mode,upper_tail,lower_tail\n",
    "3)Transformation method: log transform,square root transform,cube root transform,reciprocol transform"
   ]
  },
  {
   "cell_type": "code",
   "execution_count": 87,
   "id": "e5c087a6",
   "metadata": {},
   "outputs": [
    {
     "data": {
      "text/plain": [
       "<AxesSubplot:>"
      ]
     },
     "execution_count": 87,
     "metadata": {},
     "output_type": "execute_result"
    },
    {
     "data": {
      "image/png": "[encoded data removed]",
      "text/plain": [
       "<Figure size 432x288 with 1 Axes>"
      ]
     },
     "metadata": {
      "needs_background": "light"
     },
     "output_type": "display_data"
    }
   ],
   "source": [
    "#Deletion method\n",
    "\n",
    "index=np.where(df1[\"Insulin\"]>=upper_tail_Insulin)[0]\n",
    "df1.drop(index,inplace=True)\n",
    "df1[[\"Insulin\"]].boxplot()"
   ]
  },
  {
   "cell_type": "markdown",
   "id": "f56c5d52",
   "metadata": {},
   "source": [
    "Here we trying to drop all the outlier values which are greater than upper_tail, but this is not the good practice to handle outliers"
   ]
  },
  {
   "cell_type": "code",
   "execution_count": 90,
   "id": "49bbf2e1",
   "metadata": {},
   "outputs": [
    {
     "data": {
      "text/plain": [
       "<AxesSubplot:>"
      ]
     },
     "execution_count": 90,
     "metadata": {},
     "output_type": "execute_result"
    },
    {
     "data": {
      "image/png": "[encoded data removed]",
      "text/plain": [
       "<Figure size 432x288 with 1 Axes>"
      ]
     },
     "metadata": {
      "needs_background": "light"
     },
     "output_type": "display_data"
    }
   ],
   "source": [
    "#Transformation method\n",
    "\n",
    "np.sqrt(df1[[\"Insulin\"]]).boxplot()"
   ]
  },
  {
   "cell_type": "code",
   "execution_count": 91,
   "id": "99b2f89c",
   "metadata": {},
   "outputs": [
    {
     "data": {
      "text/plain": [
       "<AxesSubplot:>"
      ]
     },
     "execution_count": 91,
     "metadata": {},
     "output_type": "execute_result"
    },
    {
     "data": {
      "image/png": "[encoded data removed]",
      "text/plain": [
       "<Figure size 432x288 with 1 Axes>"
      ]
     },
     "metadata": {
      "needs_background": "light"
     },
     "output_type": "display_data"
    }
   ],
   "source": [
    "np.cbrt(df1[[\"BMI\"]]).boxplot()"
   ]
  },
  {
   "cell_type": "code",
   "execution_count": 92,
   "id": "b29b9de2",
   "metadata": {},
   "outputs": [
    {
     "data": {
      "text/plain": [
       "<AxesSubplot:>"
      ]
     },
     "execution_count": 92,
     "metadata": {},
     "output_type": "execute_result"
    },
    {
     "data": {
      "image/png": "[encoded data removed]",
      "text/plain": [
       "<Figure size 432x288 with 1 Axes>"
      ]
     },
     "metadata": {
      "needs_background": "light"
     },
     "output_type": "display_data"
    }
   ],
   "source": [
    "np.log(df1[[\"Age\"]]).boxplot()"
   ]
  },
  {
   "cell_type": "code",
   "execution_count": 112,
   "id": "b904dece",
   "metadata": {},
   "outputs": [
    {
     "name": "stderr",
     "output_type": "stream",
     "text": [
      "C:\\Users\\JOTIBA\\AppData\\Local\\Temp\\ipykernel_9752\\2646126602.py:3: SettingWithCopyWarning: \n",
      "A value is trying to be set on a copy of a slice from a DataFrame\n",
      "\n",
      "See the caveats in the documentation: https://pandas.pydata.org/pandas-docs/stable/user_guide/indexing.html#returning-a-view-versus-a-copy\n",
      "  df1[\"Insulin\"].loc[df1[\"Insulin\"]>=upper_tail_Insulin]=upper_tail_Insulin\n"
     ]
    }
   ],
   "source": [
    "#Imputation method\n",
    "\n",
    "df1[\"Insulin\"].loc[df1[\"Insulin\"]>=upper_tail_Insulin]=upper_tail_Insulin"
   ]
  },
  {
   "cell_type": "code",
   "execution_count": 113,
   "id": "f0799376",
   "metadata": {},
   "outputs": [
    {
     "data": {
      "text/plain": [
       "<AxesSubplot:>"
      ]
     },
     "execution_count": 113,
     "metadata": {},
     "output_type": "execute_result"
    },
    {
     "data": {
      "image/png": "[encoded data removed]",
      "text/plain": [
       "<Figure size 432x288 with 1 Axes>"
      ]
     },
     "metadata": {
      "needs_background": "light"
     },
     "output_type": "display_data"
    }
   ],
   "source": [
    "df1[[\"Insulin\"]].boxplot()"
   ]
  },
  {
   "cell_type": "code",
   "execution_count": 115,
   "id": "64198c9c",
   "metadata": {},
   "outputs": [
    {
     "name": "stderr",
     "output_type": "stream",
     "text": [
      "C:\\Users\\JOTIBA\\AppData\\Local\\Temp\\ipykernel_9752\\611768747.py:1: SettingWithCopyWarning: \n",
      "A value is trying to be set on a copy of a slice from a DataFrame\n",
      "\n",
      "See the caveats in the documentation: https://pandas.pydata.org/pandas-docs/stable/user_guide/indexing.html#returning-a-view-versus-a-copy\n",
      "  df1[\"BMI\"].loc[df1[\"BMI\"]>=upper_tail_BMI]=upper_tail_BMI\n"
     ]
    }
   ],
   "source": [
    "df1[\"BMI\"].loc[df1[\"BMI\"]>=upper_tail_BMI]=upper_tail_BMI"
   ]
  },
  {
   "cell_type": "code",
   "execution_count": 117,
   "id": "1e11c15b",
   "metadata": {},
   "outputs": [
    {
     "name": "stderr",
     "output_type": "stream",
     "text": [
      "C:\\Users\\JOTIBA\\AppData\\Local\\Temp\\ipykernel_9752\\3860636576.py:1: SettingWithCopyWarning: \n",
      "A value is trying to be set on a copy of a slice from a DataFrame\n",
      "\n",
      "See the caveats in the documentation: https://pandas.pydata.org/pandas-docs/stable/user_guide/indexing.html#returning-a-view-versus-a-copy\n",
      "  df1[\"BMI\"].loc[df1[\"BMI\"]<=lower_tail_BMI]=lower_tail_BMI\n"
     ]
    }
   ],
   "source": [
    "df1[\"BMI\"].loc[df1[\"BMI\"]<=lower_tail_BMI]=lower_tail_BMI"
   ]
  },
  {
   "cell_type": "code",
   "execution_count": 118,
   "id": "f99d24c8",
   "metadata": {},
   "outputs": [
    {
     "data": {
      "text/plain": [
       "<AxesSubplot:>"
      ]
     },
     "execution_count": 118,
     "metadata": {},
     "output_type": "execute_result"
    },
    {
     "data": {
      "image/png": "[encoded data removed]",
      "text/plain": [
       "<Figure size 432x288 with 1 Axes>"
      ]
     },
     "metadata": {
      "needs_background": "light"
     },
     "output_type": "display_data"
    }
   ],
   "source": [
    "df1[[\"BMI\"]].boxplot()"
   ]
  },
  {
   "cell_type": "code",
   "execution_count": 119,
   "id": "545e7202",
   "metadata": {},
   "outputs": [
    {
     "name": "stderr",
     "output_type": "stream",
     "text": [
      "C:\\Users\\JOTIBA\\AppData\\Local\\Temp\\ipykernel_9752\\3308549286.py:1: SettingWithCopyWarning: \n",
      "A value is trying to be set on a copy of a slice from a DataFrame\n",
      "\n",
      "See the caveats in the documentation: https://pandas.pydata.org/pandas-docs/stable/user_guide/indexing.html#returning-a-view-versus-a-copy\n",
      "  df1[\"Age\"].loc[df1[\"Age\"]>=upper_tail_Age]=upper_tail_Age\n"
     ]
    }
   ],
   "source": [
    "df1[\"Age\"].loc[df1[\"Age\"]>=upper_tail_Age]=upper_tail_Age"
   ]
  },
  {
   "cell_type": "code",
   "execution_count": 120,
   "id": "6dc12f1a",
   "metadata": {},
   "outputs": [
    {
     "data": {
      "text/plain": [
       "<AxesSubplot:>"
      ]
     },
     "execution_count": 120,
     "metadata": {},
     "output_type": "execute_result"
    },
    {
     "data": {
      "image/png": "[encoded data removed]",
      "text/plain": [
       "<Figure size 432x288 with 1 Axes>"
      ]
     },
     "metadata": {
      "needs_background": "light"
     },
     "output_type": "display_data"
    }
   ],
   "source": [
    "df1[[\"Age\"]].boxplot()"
   ]
  },
  {
   "cell_type": "code",
   "execution_count": null,
   "id": "298a28a7",
   "metadata": {},
   "outputs": [],
   "source": [
    "#Encoding Techniques\n",
    "\n",
    "1)Labled Encoding\n",
    "2)One hot Encoding\n",
    "3)Binary Encoding\n",
    "\n",
    "#For encoding technique we required a categorical feature thats why we are using here \"Lending_TRAINING_DATA\" dataset."
   ]
  },
  {
   "cell_type": "code",
   "execution_count": 6,
   "id": "64c997b0",
   "metadata": {},
   "outputs": [
    {
     "data": {
      "text/html": [
       "<div>\n",
       "<style scoped>\n",
       "    .dataframe tbody tr th:only-of-type {\n",
       "        vertical-align: middle;\n",
       "    }\n",
       "\n",
       "    .dataframe tbody tr th {\n",
       "        vertical-align: top;\n",
       "    }\n",
       "\n",
       "    .dataframe thead th {\n",
       "        text-align: right;\n",
       "    }\n",
       "</style>\n",
       "<table border=\"1\" class=\"dataframe\">\n",
       "  <thead>\n",
       "    <tr style=\"text-align: right;\">\n",
       "      <th></th>\n",
       "      <th>APPLICATION.ID</th>\n",
       "      <th>DSA.ID</th>\n",
       "      <th>DEALER.ID</th>\n",
       "      <th>APP.DATE</th>\n",
       "      <th>TIME.STAMP</th>\n",
       "      <th>APPLICATION.STATUS</th>\n",
       "      <th>QUEUE.ID</th>\n",
       "      <th>CURRENT.STAGE</th>\n",
       "      <th>MARITAL.STATUS</th>\n",
       "      <th>GENDER</th>\n",
       "      <th>...</th>\n",
       "      <th>CREDIT.CARD.NUMBER</th>\n",
       "      <th>CREDIT.CARDS.CATEGORY</th>\n",
       "      <th>PRIMARY.ASSET.CTG</th>\n",
       "      <th>PRIMARY.ASSET.MAKE</th>\n",
       "      <th>PRIMARY.ASSET.MODELNO</th>\n",
       "      <th>VOTER_ID</th>\n",
       "      <th>DRIVING_LICENSE</th>\n",
       "      <th>AADHAAR</th>\n",
       "      <th>PAN</th>\n",
       "      <th>BANK_PASSBOOK</th>\n",
       "    </tr>\n",
       "  </thead>\n",
       "  <tbody>\n",
       "    <tr>\n",
       "      <th>0</th>\n",
       "      <td>27497000024</td>\n",
       "      <td>JB02005</td>\n",
       "      <td>27497</td>\n",
       "      <td>2017-02-28</td>\n",
       "      <td>22:11:01</td>\n",
       "      <td>Declined</td>\n",
       "      <td>Straight  Through Process</td>\n",
       "      <td>PD_DE</td>\n",
       "      <td>Single</td>\n",
       "      <td>Male</td>\n",
       "      <td>...</td>\n",
       "      <td>NaN</td>\n",
       "      <td>NaN</td>\n",
       "      <td>REF-FF HOME</td>\n",
       "      <td>SAMSUNG</td>\n",
       "      <td>RT30K3723S8/HL</td>\n",
       "      <td>F</td>\n",
       "      <td>F</td>\n",
       "      <td>T</td>\n",
       "      <td>F</td>\n",
       "      <td>F</td>\n",
       "    </tr>\n",
       "    <tr>\n",
       "      <th>1</th>\n",
       "      <td>25556001005</td>\n",
       "      <td>RD02622</td>\n",
       "      <td>25556</td>\n",
       "      <td>2017-02-28</td>\n",
       "      <td>22:05:51</td>\n",
       "      <td>Approved</td>\n",
       "      <td>Straight  Through Process</td>\n",
       "      <td>PD_DE</td>\n",
       "      <td>Married</td>\n",
       "      <td>Male</td>\n",
       "      <td>...</td>\n",
       "      <td>NaN</td>\n",
       "      <td>NaN</td>\n",
       "      <td>TELEVISION</td>\n",
       "      <td>SONY</td>\n",
       "      <td>KLV-29P423D</td>\n",
       "      <td>F</td>\n",
       "      <td>T</td>\n",
       "      <td>F</td>\n",
       "      <td>F</td>\n",
       "      <td>F</td>\n",
       "    </tr>\n",
       "    <tr>\n",
       "      <th>2</th>\n",
       "      <td>27220000249</td>\n",
       "      <td>SK02345</td>\n",
       "      <td>27220</td>\n",
       "      <td>2017-02-28</td>\n",
       "      <td>21:58:34</td>\n",
       "      <td>Approved</td>\n",
       "      <td>Straight  Through Process</td>\n",
       "      <td>PD_DE</td>\n",
       "      <td>Married</td>\n",
       "      <td>Male</td>\n",
       "      <td>...</td>\n",
       "      <td>NaN</td>\n",
       "      <td>NaN</td>\n",
       "      <td>AIR CONDITIONER</td>\n",
       "      <td>ELECTROLUX</td>\n",
       "      <td>AIR CONDITIONER VANILLA</td>\n",
       "      <td>F</td>\n",
       "      <td>T</td>\n",
       "      <td>F</td>\n",
       "      <td>F</td>\n",
       "      <td>F</td>\n",
       "    </tr>\n",
       "    <tr>\n",
       "      <th>3</th>\n",
       "      <td>27067000029</td>\n",
       "      <td>DN30900</td>\n",
       "      <td>27067</td>\n",
       "      <td>2017-02-28</td>\n",
       "      <td>21:52:46</td>\n",
       "      <td>Declined</td>\n",
       "      <td>Under.Writer</td>\n",
       "      <td>DCLN</td>\n",
       "      <td>Married</td>\n",
       "      <td>Male</td>\n",
       "      <td>...</td>\n",
       "      <td>NaN</td>\n",
       "      <td>NaN</td>\n",
       "      <td>HOME THEATRE</td>\n",
       "      <td>TARGET</td>\n",
       "      <td>K1110 FM</td>\n",
       "      <td>F</td>\n",
       "      <td>F</td>\n",
       "      <td>T</td>\n",
       "      <td>F</td>\n",
       "      <td>F</td>\n",
       "    </tr>\n",
       "    <tr>\n",
       "      <th>4</th>\n",
       "      <td>26189000138</td>\n",
       "      <td>JB02005</td>\n",
       "      <td>26189</td>\n",
       "      <td>2017-02-28</td>\n",
       "      <td>21:52:33</td>\n",
       "      <td>Approved</td>\n",
       "      <td>Straight  Through Process</td>\n",
       "      <td>APRV</td>\n",
       "      <td>Married</td>\n",
       "      <td>Male</td>\n",
       "      <td>...</td>\n",
       "      <td>NaN</td>\n",
       "      <td>NaN</td>\n",
       "      <td>SPLIT AC</td>\n",
       "      <td>ELECTROLUX</td>\n",
       "      <td>ES18T5C</td>\n",
       "      <td>F</td>\n",
       "      <td>F</td>\n",
       "      <td>F</td>\n",
       "      <td>T</td>\n",
       "      <td>F</td>\n",
       "    </tr>\n",
       "    <tr>\n",
       "      <th>...</th>\n",
       "      <td>...</td>\n",
       "      <td>...</td>\n",
       "      <td>...</td>\n",
       "      <td>...</td>\n",
       "      <td>...</td>\n",
       "      <td>...</td>\n",
       "      <td>...</td>\n",
       "      <td>...</td>\n",
       "      <td>...</td>\n",
       "      <td>...</td>\n",
       "      <td>...</td>\n",
       "      <td>...</td>\n",
       "      <td>...</td>\n",
       "      <td>...</td>\n",
       "      <td>...</td>\n",
       "      <td>...</td>\n",
       "      <td>...</td>\n",
       "      <td>...</td>\n",
       "      <td>...</td>\n",
       "      <td>...</td>\n",
       "      <td>...</td>\n",
       "    </tr>\n",
       "    <tr>\n",
       "      <th>7754</th>\n",
       "      <td>25150001203</td>\n",
       "      <td>RP05168</td>\n",
       "      <td>25150</td>\n",
       "      <td>2017-02-22</td>\n",
       "      <td>10:43:08</td>\n",
       "      <td>Approved</td>\n",
       "      <td>Straight  Through Process</td>\n",
       "      <td>APRV</td>\n",
       "      <td>Married</td>\n",
       "      <td>Male</td>\n",
       "      <td>...</td>\n",
       "      <td>NaN</td>\n",
       "      <td>NaN</td>\n",
       "      <td>PANEL - LED</td>\n",
       "      <td>SAMSUNG</td>\n",
       "      <td>UA32K5300ARLXL</td>\n",
       "      <td>F</td>\n",
       "      <td>F</td>\n",
       "      <td>F</td>\n",
       "      <td>T</td>\n",
       "      <td>F</td>\n",
       "    </tr>\n",
       "    <tr>\n",
       "      <th>7755</th>\n",
       "      <td>27199000069</td>\n",
       "      <td>RS24113</td>\n",
       "      <td>27199</td>\n",
       "      <td>2017-02-22</td>\n",
       "      <td>10:41:45</td>\n",
       "      <td>Declined</td>\n",
       "      <td>Straight  Through Process</td>\n",
       "      <td>PD_DE</td>\n",
       "      <td>Married</td>\n",
       "      <td>Male</td>\n",
       "      <td>...</td>\n",
       "      <td>NaN</td>\n",
       "      <td>NaN</td>\n",
       "      <td>SAWM</td>\n",
       "      <td>LG</td>\n",
       "      <td>P8072R3F</td>\n",
       "      <td>F</td>\n",
       "      <td>F</td>\n",
       "      <td>T</td>\n",
       "      <td>T</td>\n",
       "      <td>F</td>\n",
       "    </tr>\n",
       "    <tr>\n",
       "      <th>7756</th>\n",
       "      <td>26805000032</td>\n",
       "      <td>SB44646</td>\n",
       "      <td>26805</td>\n",
       "      <td>2017-02-22</td>\n",
       "      <td>10:34:56</td>\n",
       "      <td>Declined</td>\n",
       "      <td>Under.Writer</td>\n",
       "      <td>DCLN</td>\n",
       "      <td>Single</td>\n",
       "      <td>Male</td>\n",
       "      <td>...</td>\n",
       "      <td>NaN</td>\n",
       "      <td>NaN</td>\n",
       "      <td>TELEVISION</td>\n",
       "      <td>SONY</td>\n",
       "      <td>KLV-32R302D</td>\n",
       "      <td>T</td>\n",
       "      <td>F</td>\n",
       "      <td>T</td>\n",
       "      <td>F</td>\n",
       "      <td>F</td>\n",
       "    </tr>\n",
       "    <tr>\n",
       "      <th>7757</th>\n",
       "      <td>28188000004</td>\n",
       "      <td>JD25733</td>\n",
       "      <td>28188</td>\n",
       "      <td>2017-02-22</td>\n",
       "      <td>10:24:20</td>\n",
       "      <td>Approved</td>\n",
       "      <td>Straight  Through Process</td>\n",
       "      <td>LOS_DISB</td>\n",
       "      <td>Married</td>\n",
       "      <td>Male</td>\n",
       "      <td>...</td>\n",
       "      <td>NaN</td>\n",
       "      <td>NaN</td>\n",
       "      <td>AIR CONDITIONER</td>\n",
       "      <td>WHIRLPOOL</td>\n",
       "      <td>1.5T MAGICOOL PRM COPR 2S -WHITE-S</td>\n",
       "      <td>F</td>\n",
       "      <td>F</td>\n",
       "      <td>T</td>\n",
       "      <td>F</td>\n",
       "      <td>F</td>\n",
       "    </tr>\n",
       "    <tr>\n",
       "      <th>7758</th>\n",
       "      <td>27059000043</td>\n",
       "      <td>PJ58585</td>\n",
       "      <td>27059</td>\n",
       "      <td>2017-02-22</td>\n",
       "      <td>09:50:43</td>\n",
       "      <td>Approved</td>\n",
       "      <td>Straight  Through Process</td>\n",
       "      <td>INV_GNR</td>\n",
       "      <td>Married</td>\n",
       "      <td>Male</td>\n",
       "      <td>...</td>\n",
       "      <td>NaN</td>\n",
       "      <td>NaN</td>\n",
       "      <td>PANEL - SMARTLED</td>\n",
       "      <td>LG</td>\n",
       "      <td>43LH576T</td>\n",
       "      <td>F</td>\n",
       "      <td>F</td>\n",
       "      <td>T</td>\n",
       "      <td>F</td>\n",
       "      <td>F</td>\n",
       "    </tr>\n",
       "  </tbody>\n",
       "</table>\n",
       "<p>7759 rows × 46 columns</p>\n",
       "</div>"
      ],
      "text/plain": [
       "      APPLICATION.ID   DSA.ID  DEALER.ID    APP.DATE TIME.STAMP  \\\n",
       "0        27497000024  JB02005      27497  2017-02-28   22:11:01   \n",
       "1        25556001005  RD02622      25556  2017-02-28   22:05:51   \n",
       "2        27220000249  SK02345      27220  2017-02-28   21:58:34   \n",
       "3        27067000029  DN30900      27067  2017-02-28   21:52:46   \n",
       "4        26189000138  JB02005      26189  2017-02-28   21:52:33   \n",
       "...              ...      ...        ...         ...        ...   \n",
       "7754     25150001203  RP05168      25150  2017-02-22   10:43:08   \n",
       "7755     27199000069  RS24113      27199  2017-02-22   10:41:45   \n",
       "7756     26805000032  SB44646      26805  2017-02-22   10:34:56   \n",
       "7757     28188000004  JD25733      28188  2017-02-22   10:24:20   \n",
       "7758     27059000043  PJ58585      27059  2017-02-22   09:50:43   \n",
       "\n",
       "     APPLICATION.STATUS                   QUEUE.ID CURRENT.STAGE  \\\n",
       "0              Declined  Straight  Through Process         PD_DE   \n",
       "1              Approved  Straight  Through Process         PD_DE   \n",
       "2              Approved  Straight  Through Process         PD_DE   \n",
       "3              Declined               Under.Writer          DCLN   \n",
       "4              Approved  Straight  Through Process          APRV   \n",
       "...                 ...                        ...           ...   \n",
       "7754           Approved  Straight  Through Process          APRV   \n",
       "7755           Declined  Straight  Through Process         PD_DE   \n",
       "7756           Declined               Under.Writer          DCLN   \n",
       "7757           Approved  Straight  Through Process      LOS_DISB   \n",
       "7758           Approved  Straight  Through Process       INV_GNR   \n",
       "\n",
       "     MARITAL.STATUS GENDER  ...  CREDIT.CARD.NUMBER CREDIT.CARDS.CATEGORY  \\\n",
       "0            Single   Male  ...                 NaN                   NaN   \n",
       "1           Married   Male  ...                 NaN                   NaN   \n",
       "2           Married   Male  ...                 NaN                   NaN   \n",
       "3           Married   Male  ...                 NaN                   NaN   \n",
       "4           Married   Male  ...                 NaN                   NaN   \n",
       "...             ...    ...  ...                 ...                   ...   \n",
       "7754        Married   Male  ...                 NaN                   NaN   \n",
       "7755        Married   Male  ...                 NaN                   NaN   \n",
       "7756         Single   Male  ...                 NaN                   NaN   \n",
       "7757        Married   Male  ...                 NaN                   NaN   \n",
       "7758        Married   Male  ...                 NaN                   NaN   \n",
       "\n",
       "     PRIMARY.ASSET.CTG PRIMARY.ASSET.MAKE               PRIMARY.ASSET.MODELNO  \\\n",
       "0          REF-FF HOME            SAMSUNG                      RT30K3723S8/HL   \n",
       "1           TELEVISION               SONY                         KLV-29P423D   \n",
       "2      AIR CONDITIONER         ELECTROLUX             AIR CONDITIONER VANILLA   \n",
       "3         HOME THEATRE             TARGET                            K1110 FM   \n",
       "4             SPLIT AC         ELECTROLUX                             ES18T5C   \n",
       "...                ...                ...                                 ...   \n",
       "7754       PANEL - LED            SAMSUNG                      UA32K5300ARLXL   \n",
       "7755              SAWM                 LG                            P8072R3F   \n",
       "7756        TELEVISION               SONY                         KLV-32R302D   \n",
       "7757   AIR CONDITIONER          WHIRLPOOL  1.5T MAGICOOL PRM COPR 2S -WHITE-S   \n",
       "7758  PANEL - SMARTLED                 LG                            43LH576T   \n",
       "\n",
       "      VOTER_ID DRIVING_LICENSE  AADHAAR PAN BANK_PASSBOOK  \n",
       "0            F               F        T   F             F  \n",
       "1            F               T        F   F             F  \n",
       "2            F               T        F   F             F  \n",
       "3            F               F        T   F             F  \n",
       "4            F               F        F   T             F  \n",
       "...        ...             ...      ...  ..           ...  \n",
       "7754         F               F        F   T             F  \n",
       "7755         F               F        T   T             F  \n",
       "7756         T               F        T   F             F  \n",
       "7757         F               F        T   F             F  \n",
       "7758         F               F        T   F             F  \n",
       "\n",
       "[7759 rows x 46 columns]"
      ]
     },
     "execution_count": 6,
     "metadata": {},
     "output_type": "execute_result"
    }
   ],
   "source": [
    "df2=pd.read_csv(\"Lending_TRAINING_DATA.csv\")\n",
    "df2"
   ]
  },
  {
   "cell_type": "code",
   "execution_count": 7,
   "id": "e33dadb3",
   "metadata": {},
   "outputs": [
    {
     "data": {
      "text/plain": [
       "APPLICATION.ID                     int64\n",
       "DSA.ID                            object\n",
       "DEALER.ID                          int64\n",
       "APP.DATE                          object\n",
       "TIME.STAMP                        object\n",
       "APPLICATION.STATUS                object\n",
       "QUEUE.ID                          object\n",
       "CURRENT.STAGE                     object\n",
       "MARITAL.STATUS                    object\n",
       "GENDER                            object\n",
       "AGE                                int64\n",
       "EDUCATION                         object\n",
       "RESIDENCE.TYPE                    object\n",
       "CITY                              object\n",
       "STATE                             object\n",
       "ZIP.CODE                           int64\n",
       "EMPLOY.CONSTITUTION               object\n",
       "NET.TAKE.HOME.SALARY             float64\n",
       "PAN.STATUS                        object\n",
       "CIBIL.SCORE                       object\n",
       "APPLICATION.SCORE                 object\n",
       "RESIDENTIAL.ADDRESS.SCORE        float64\n",
       "OFFICE.ADDRESS.SCORE             float64\n",
       "NAME.SCORE                       float64\n",
       "APPROVED.AMOUNT                  float64\n",
       "ASSET.MAKE                        object\n",
       "ASSET.CTG                         object\n",
       "APPLIED.AMOUNT                     int64\n",
       "LOAN.TENOR                         int64\n",
       "LOAN.TYPE                         object\n",
       "DEDUPE.REF.ID1                   float64\n",
       "CAR.CATEGORY                      object\n",
       "OWN.HOUSE.TYPE                    object\n",
       "HOUSE.SURROGATE.DOCUMENT.TYPE     object\n",
       "TRADER.YEAR.IN.BUSINESS          float64\n",
       "TRADER.BUSINESS.PROOF             object\n",
       "CREDIT.CARD.NUMBER               float64\n",
       "CREDIT.CARDS.CATEGORY             object\n",
       "PRIMARY.ASSET.CTG                 object\n",
       "PRIMARY.ASSET.MAKE                object\n",
       "PRIMARY.ASSET.MODELNO             object\n",
       "VOTER_ID                          object\n",
       "DRIVING_LICENSE                   object\n",
       "AADHAAR                           object\n",
       "PAN                               object\n",
       "BANK_PASSBOOK                     object\n",
       "dtype: object"
      ]
     },
     "execution_count": 7,
     "metadata": {},
     "output_type": "execute_result"
    }
   ],
   "source": [
    "#Checking data type of each feature\n",
    "\n",
    "df2.dtypes"
   ]
  },
  {
   "cell_type": "code",
   "execution_count": 8,
   "id": "12f0514f",
   "metadata": {},
   "outputs": [
    {
     "data": {
      "text/plain": [
       "array(['Declined', 'Approved'], dtype=object)"
      ]
     },
     "execution_count": 8,
     "metadata": {},
     "output_type": "execute_result"
    }
   ],
   "source": [
    "#Checking unique values present in feature\n",
    "\n",
    "df2[\"APPLICATION.STATUS\"].unique()"
   ]
  },
  {
   "cell_type": "code",
   "execution_count": 9,
   "id": "d91afe4b",
   "metadata": {},
   "outputs": [
    {
     "data": {
      "text/plain": [
       "2"
      ]
     },
     "execution_count": 9,
     "metadata": {},
     "output_type": "execute_result"
    }
   ],
   "source": [
    "df2[\"APPLICATION.STATUS\"].nunique()"
   ]
  },
  {
   "cell_type": "code",
   "execution_count": 10,
   "id": "e92d0036",
   "metadata": {},
   "outputs": [
    {
     "data": {
      "text/html": [
       "<div>\n",
       "<style scoped>\n",
       "    .dataframe tbody tr th:only-of-type {\n",
       "        vertical-align: middle;\n",
       "    }\n",
       "\n",
       "    .dataframe tbody tr th {\n",
       "        vertical-align: top;\n",
       "    }\n",
       "\n",
       "    .dataframe thead th {\n",
       "        text-align: right;\n",
       "    }\n",
       "</style>\n",
       "<table border=\"1\" class=\"dataframe\">\n",
       "  <thead>\n",
       "    <tr style=\"text-align: right;\">\n",
       "      <th></th>\n",
       "      <th>APPLICATION.ID</th>\n",
       "      <th>DSA.ID</th>\n",
       "      <th>DEALER.ID</th>\n",
       "      <th>APP.DATE</th>\n",
       "      <th>TIME.STAMP</th>\n",
       "      <th>APPLICATION.STATUS</th>\n",
       "      <th>QUEUE.ID</th>\n",
       "      <th>CURRENT.STAGE</th>\n",
       "      <th>MARITAL.STATUS</th>\n",
       "      <th>GENDER</th>\n",
       "      <th>...</th>\n",
       "      <th>CREDIT.CARD.NUMBER</th>\n",
       "      <th>CREDIT.CARDS.CATEGORY</th>\n",
       "      <th>PRIMARY.ASSET.CTG</th>\n",
       "      <th>PRIMARY.ASSET.MAKE</th>\n",
       "      <th>PRIMARY.ASSET.MODELNO</th>\n",
       "      <th>VOTER_ID</th>\n",
       "      <th>DRIVING_LICENSE</th>\n",
       "      <th>AADHAAR</th>\n",
       "      <th>PAN</th>\n",
       "      <th>BANK_PASSBOOK</th>\n",
       "    </tr>\n",
       "  </thead>\n",
       "  <tbody>\n",
       "    <tr>\n",
       "      <th>0</th>\n",
       "      <td>27497000024</td>\n",
       "      <td>JB02005</td>\n",
       "      <td>27497</td>\n",
       "      <td>2017-02-28</td>\n",
       "      <td>22:11:01</td>\n",
       "      <td>0</td>\n",
       "      <td>Straight  Through Process</td>\n",
       "      <td>PD_DE</td>\n",
       "      <td>Single</td>\n",
       "      <td>Male</td>\n",
       "      <td>...</td>\n",
       "      <td>NaN</td>\n",
       "      <td>NaN</td>\n",
       "      <td>REF-FF HOME</td>\n",
       "      <td>SAMSUNG</td>\n",
       "      <td>RT30K3723S8/HL</td>\n",
       "      <td>F</td>\n",
       "      <td>F</td>\n",
       "      <td>T</td>\n",
       "      <td>F</td>\n",
       "      <td>F</td>\n",
       "    </tr>\n",
       "    <tr>\n",
       "      <th>1</th>\n",
       "      <td>25556001005</td>\n",
       "      <td>RD02622</td>\n",
       "      <td>25556</td>\n",
       "      <td>2017-02-28</td>\n",
       "      <td>22:05:51</td>\n",
       "      <td>1</td>\n",
       "      <td>Straight  Through Process</td>\n",
       "      <td>PD_DE</td>\n",
       "      <td>Married</td>\n",
       "      <td>Male</td>\n",
       "      <td>...</td>\n",
       "      <td>NaN</td>\n",
       "      <td>NaN</td>\n",
       "      <td>TELEVISION</td>\n",
       "      <td>SONY</td>\n",
       "      <td>KLV-29P423D</td>\n",
       "      <td>F</td>\n",
       "      <td>T</td>\n",
       "      <td>F</td>\n",
       "      <td>F</td>\n",
       "      <td>F</td>\n",
       "    </tr>\n",
       "    <tr>\n",
       "      <th>2</th>\n",
       "      <td>27220000249</td>\n",
       "      <td>SK02345</td>\n",
       "      <td>27220</td>\n",
       "      <td>2017-02-28</td>\n",
       "      <td>21:58:34</td>\n",
       "      <td>1</td>\n",
       "      <td>Straight  Through Process</td>\n",
       "      <td>PD_DE</td>\n",
       "      <td>Married</td>\n",
       "      <td>Male</td>\n",
       "      <td>...</td>\n",
       "      <td>NaN</td>\n",
       "      <td>NaN</td>\n",
       "      <td>AIR CONDITIONER</td>\n",
       "      <td>ELECTROLUX</td>\n",
       "      <td>AIR CONDITIONER VANILLA</td>\n",
       "      <td>F</td>\n",
       "      <td>T</td>\n",
       "      <td>F</td>\n",
       "      <td>F</td>\n",
       "      <td>F</td>\n",
       "    </tr>\n",
       "    <tr>\n",
       "      <th>3</th>\n",
       "      <td>27067000029</td>\n",
       "      <td>DN30900</td>\n",
       "      <td>27067</td>\n",
       "      <td>2017-02-28</td>\n",
       "      <td>21:52:46</td>\n",
       "      <td>0</td>\n",
       "      <td>Under.Writer</td>\n",
       "      <td>DCLN</td>\n",
       "      <td>Married</td>\n",
       "      <td>Male</td>\n",
       "      <td>...</td>\n",
       "      <td>NaN</td>\n",
       "      <td>NaN</td>\n",
       "      <td>HOME THEATRE</td>\n",
       "      <td>TARGET</td>\n",
       "      <td>K1110 FM</td>\n",
       "      <td>F</td>\n",
       "      <td>F</td>\n",
       "      <td>T</td>\n",
       "      <td>F</td>\n",
       "      <td>F</td>\n",
       "    </tr>\n",
       "    <tr>\n",
       "      <th>4</th>\n",
       "      <td>26189000138</td>\n",
       "      <td>JB02005</td>\n",
       "      <td>26189</td>\n",
       "      <td>2017-02-28</td>\n",
       "      <td>21:52:33</td>\n",
       "      <td>1</td>\n",
       "      <td>Straight  Through Process</td>\n",
       "      <td>APRV</td>\n",
       "      <td>Married</td>\n",
       "      <td>Male</td>\n",
       "      <td>...</td>\n",
       "      <td>NaN</td>\n",
       "      <td>NaN</td>\n",
       "      <td>SPLIT AC</td>\n",
       "      <td>ELECTROLUX</td>\n",
       "      <td>ES18T5C</td>\n",
       "      <td>F</td>\n",
       "      <td>F</td>\n",
       "      <td>F</td>\n",
       "      <td>T</td>\n",
       "      <td>F</td>\n",
       "    </tr>\n",
       "  </tbody>\n",
       "</table>\n",
       "<p>5 rows × 46 columns</p>\n",
       "</div>"
      ],
      "text/plain": [
       "   APPLICATION.ID   DSA.ID  DEALER.ID    APP.DATE TIME.STAMP  \\\n",
       "0     27497000024  JB02005      27497  2017-02-28   22:11:01   \n",
       "1     25556001005  RD02622      25556  2017-02-28   22:05:51   \n",
       "2     27220000249  SK02345      27220  2017-02-28   21:58:34   \n",
       "3     27067000029  DN30900      27067  2017-02-28   21:52:46   \n",
       "4     26189000138  JB02005      26189  2017-02-28   21:52:33   \n",
       "\n",
       "   APPLICATION.STATUS                   QUEUE.ID CURRENT.STAGE MARITAL.STATUS  \\\n",
       "0                   0  Straight  Through Process         PD_DE         Single   \n",
       "1                   1  Straight  Through Process         PD_DE        Married   \n",
       "2                   1  Straight  Through Process         PD_DE        Married   \n",
       "3                   0               Under.Writer          DCLN        Married   \n",
       "4                   1  Straight  Through Process          APRV        Married   \n",
       "\n",
       "  GENDER  ...  CREDIT.CARD.NUMBER CREDIT.CARDS.CATEGORY PRIMARY.ASSET.CTG  \\\n",
       "0   Male  ...                 NaN                   NaN       REF-FF HOME   \n",
       "1   Male  ...                 NaN                   NaN        TELEVISION   \n",
       "2   Male  ...                 NaN                   NaN   AIR CONDITIONER   \n",
       "3   Male  ...                 NaN                   NaN      HOME THEATRE   \n",
       "4   Male  ...                 NaN                   NaN          SPLIT AC   \n",
       "\n",
       "  PRIMARY.ASSET.MAKE    PRIMARY.ASSET.MODELNO  VOTER_ID DRIVING_LICENSE  \\\n",
       "0            SAMSUNG           RT30K3723S8/HL         F               F   \n",
       "1               SONY              KLV-29P423D         F               T   \n",
       "2         ELECTROLUX  AIR CONDITIONER VANILLA         F               T   \n",
       "3             TARGET                 K1110 FM         F               F   \n",
       "4         ELECTROLUX                  ES18T5C         F               F   \n",
       "\n",
       "   AADHAAR PAN BANK_PASSBOOK  \n",
       "0        T   F             F  \n",
       "1        F   F             F  \n",
       "2        F   F             F  \n",
       "3        T   F             F  \n",
       "4        F   T             F  \n",
       "\n",
       "[5 rows x 46 columns]"
      ]
     },
     "execution_count": 10,
     "metadata": {},
     "output_type": "execute_result"
    }
   ],
   "source": [
    "#data is ordinal data,hence we are using labeled encoding\n",
    "\n",
    "df2.replace({\"Declined\":0,\"Approved\":1},inplace=True)\n",
    "df2.head()"
   ]
  },
  {
   "cell_type": "code",
   "execution_count": 11,
   "id": "17a4fcb5",
   "metadata": {},
   "outputs": [
    {
     "data": {
      "text/plain": [
       "array(['Single', 'Married'], dtype=object)"
      ]
     },
     "execution_count": 11,
     "metadata": {},
     "output_type": "execute_result"
    }
   ],
   "source": [
    "df2[\"MARITAL.STATUS\"].unique()"
   ]
  },
  {
   "cell_type": "code",
   "execution_count": 12,
   "id": "726a204c",
   "metadata": {},
   "outputs": [
    {
     "data": {
      "text/html": [
       "<div>\n",
       "<style scoped>\n",
       "    .dataframe tbody tr th:only-of-type {\n",
       "        vertical-align: middle;\n",
       "    }\n",
       "\n",
       "    .dataframe tbody tr th {\n",
       "        vertical-align: top;\n",
       "    }\n",
       "\n",
       "    .dataframe thead th {\n",
       "        text-align: right;\n",
       "    }\n",
       "</style>\n",
       "<table border=\"1\" class=\"dataframe\">\n",
       "  <thead>\n",
       "    <tr style=\"text-align: right;\">\n",
       "      <th></th>\n",
       "      <th>APPLICATION.ID</th>\n",
       "      <th>DSA.ID</th>\n",
       "      <th>DEALER.ID</th>\n",
       "      <th>APP.DATE</th>\n",
       "      <th>TIME.STAMP</th>\n",
       "      <th>APPLICATION.STATUS</th>\n",
       "      <th>QUEUE.ID</th>\n",
       "      <th>CURRENT.STAGE</th>\n",
       "      <th>MARITAL.STATUS</th>\n",
       "      <th>GENDER</th>\n",
       "      <th>...</th>\n",
       "      <th>CREDIT.CARD.NUMBER</th>\n",
       "      <th>CREDIT.CARDS.CATEGORY</th>\n",
       "      <th>PRIMARY.ASSET.CTG</th>\n",
       "      <th>PRIMARY.ASSET.MAKE</th>\n",
       "      <th>PRIMARY.ASSET.MODELNO</th>\n",
       "      <th>VOTER_ID</th>\n",
       "      <th>DRIVING_LICENSE</th>\n",
       "      <th>AADHAAR</th>\n",
       "      <th>PAN</th>\n",
       "      <th>BANK_PASSBOOK</th>\n",
       "    </tr>\n",
       "  </thead>\n",
       "  <tbody>\n",
       "    <tr>\n",
       "      <th>0</th>\n",
       "      <td>27497000024</td>\n",
       "      <td>JB02005</td>\n",
       "      <td>27497</td>\n",
       "      <td>2017-02-28</td>\n",
       "      <td>22:11:01</td>\n",
       "      <td>0</td>\n",
       "      <td>Straight  Through Process</td>\n",
       "      <td>PD_DE</td>\n",
       "      <td>0</td>\n",
       "      <td>Male</td>\n",
       "      <td>...</td>\n",
       "      <td>NaN</td>\n",
       "      <td>NaN</td>\n",
       "      <td>REF-FF HOME</td>\n",
       "      <td>SAMSUNG</td>\n",
       "      <td>RT30K3723S8/HL</td>\n",
       "      <td>F</td>\n",
       "      <td>F</td>\n",
       "      <td>T</td>\n",
       "      <td>F</td>\n",
       "      <td>F</td>\n",
       "    </tr>\n",
       "    <tr>\n",
       "      <th>1</th>\n",
       "      <td>25556001005</td>\n",
       "      <td>RD02622</td>\n",
       "      <td>25556</td>\n",
       "      <td>2017-02-28</td>\n",
       "      <td>22:05:51</td>\n",
       "      <td>1</td>\n",
       "      <td>Straight  Through Process</td>\n",
       "      <td>PD_DE</td>\n",
       "      <td>1</td>\n",
       "      <td>Male</td>\n",
       "      <td>...</td>\n",
       "      <td>NaN</td>\n",
       "      <td>NaN</td>\n",
       "      <td>TELEVISION</td>\n",
       "      <td>SONY</td>\n",
       "      <td>KLV-29P423D</td>\n",
       "      <td>F</td>\n",
       "      <td>T</td>\n",
       "      <td>F</td>\n",
       "      <td>F</td>\n",
       "      <td>F</td>\n",
       "    </tr>\n",
       "    <tr>\n",
       "      <th>2</th>\n",
       "      <td>27220000249</td>\n",
       "      <td>SK02345</td>\n",
       "      <td>27220</td>\n",
       "      <td>2017-02-28</td>\n",
       "      <td>21:58:34</td>\n",
       "      <td>1</td>\n",
       "      <td>Straight  Through Process</td>\n",
       "      <td>PD_DE</td>\n",
       "      <td>1</td>\n",
       "      <td>Male</td>\n",
       "      <td>...</td>\n",
       "      <td>NaN</td>\n",
       "      <td>NaN</td>\n",
       "      <td>AIR CONDITIONER</td>\n",
       "      <td>ELECTROLUX</td>\n",
       "      <td>AIR CONDITIONER VANILLA</td>\n",
       "      <td>F</td>\n",
       "      <td>T</td>\n",
       "      <td>F</td>\n",
       "      <td>F</td>\n",
       "      <td>F</td>\n",
       "    </tr>\n",
       "    <tr>\n",
       "      <th>3</th>\n",
       "      <td>27067000029</td>\n",
       "      <td>DN30900</td>\n",
       "      <td>27067</td>\n",
       "      <td>2017-02-28</td>\n",
       "      <td>21:52:46</td>\n",
       "      <td>0</td>\n",
       "      <td>Under.Writer</td>\n",
       "      <td>DCLN</td>\n",
       "      <td>1</td>\n",
       "      <td>Male</td>\n",
       "      <td>...</td>\n",
       "      <td>NaN</td>\n",
       "      <td>NaN</td>\n",
       "      <td>HOME THEATRE</td>\n",
       "      <td>TARGET</td>\n",
       "      <td>K1110 FM</td>\n",
       "      <td>F</td>\n",
       "      <td>F</td>\n",
       "      <td>T</td>\n",
       "      <td>F</td>\n",
       "      <td>F</td>\n",
       "    </tr>\n",
       "    <tr>\n",
       "      <th>4</th>\n",
       "      <td>26189000138</td>\n",
       "      <td>JB02005</td>\n",
       "      <td>26189</td>\n",
       "      <td>2017-02-28</td>\n",
       "      <td>21:52:33</td>\n",
       "      <td>1</td>\n",
       "      <td>Straight  Through Process</td>\n",
       "      <td>APRV</td>\n",
       "      <td>1</td>\n",
       "      <td>Male</td>\n",
       "      <td>...</td>\n",
       "      <td>NaN</td>\n",
       "      <td>NaN</td>\n",
       "      <td>SPLIT AC</td>\n",
       "      <td>ELECTROLUX</td>\n",
       "      <td>ES18T5C</td>\n",
       "      <td>F</td>\n",
       "      <td>F</td>\n",
       "      <td>F</td>\n",
       "      <td>T</td>\n",
       "      <td>F</td>\n",
       "    </tr>\n",
       "  </tbody>\n",
       "</table>\n",
       "<p>5 rows × 46 columns</p>\n",
       "</div>"
      ],
      "text/plain": [
       "   APPLICATION.ID   DSA.ID  DEALER.ID    APP.DATE TIME.STAMP  \\\n",
       "0     27497000024  JB02005      27497  2017-02-28   22:11:01   \n",
       "1     25556001005  RD02622      25556  2017-02-28   22:05:51   \n",
       "2     27220000249  SK02345      27220  2017-02-28   21:58:34   \n",
       "3     27067000029  DN30900      27067  2017-02-28   21:52:46   \n",
       "4     26189000138  JB02005      26189  2017-02-28   21:52:33   \n",
       "\n",
       "   APPLICATION.STATUS                   QUEUE.ID CURRENT.STAGE  \\\n",
       "0                   0  Straight  Through Process         PD_DE   \n",
       "1                   1  Straight  Through Process         PD_DE   \n",
       "2                   1  Straight  Through Process         PD_DE   \n",
       "3                   0               Under.Writer          DCLN   \n",
       "4                   1  Straight  Through Process          APRV   \n",
       "\n",
       "   MARITAL.STATUS GENDER  ...  CREDIT.CARD.NUMBER CREDIT.CARDS.CATEGORY  \\\n",
       "0               0   Male  ...                 NaN                   NaN   \n",
       "1               1   Male  ...                 NaN                   NaN   \n",
       "2               1   Male  ...                 NaN                   NaN   \n",
       "3               1   Male  ...                 NaN                   NaN   \n",
       "4               1   Male  ...                 NaN                   NaN   \n",
       "\n",
       "  PRIMARY.ASSET.CTG PRIMARY.ASSET.MAKE    PRIMARY.ASSET.MODELNO  VOTER_ID  \\\n",
       "0       REF-FF HOME            SAMSUNG           RT30K3723S8/HL         F   \n",
       "1        TELEVISION               SONY              KLV-29P423D         F   \n",
       "2   AIR CONDITIONER         ELECTROLUX  AIR CONDITIONER VANILLA         F   \n",
       "3      HOME THEATRE             TARGET                 K1110 FM         F   \n",
       "4          SPLIT AC         ELECTROLUX                  ES18T5C         F   \n",
       "\n",
       "  DRIVING_LICENSE  AADHAAR PAN BANK_PASSBOOK  \n",
       "0               F        T   F             F  \n",
       "1               T        F   F             F  \n",
       "2               T        F   F             F  \n",
       "3               F        T   F             F  \n",
       "4               F        F   T             F  \n",
       "\n",
       "[5 rows x 46 columns]"
      ]
     },
     "execution_count": 12,
     "metadata": {},
     "output_type": "execute_result"
    }
   ],
   "source": [
    "df2.replace({\"Single\":0,\"Married\":1},inplace=True)\n",
    "df2.head()"
   ]
  },
  {
   "cell_type": "code",
   "execution_count": 19,
   "id": "b1568cb4",
   "metadata": {},
   "outputs": [
    {
     "data": {
      "text/plain": [
       "array(['PD_DE', 'DCLN', 'APRV', 'SRNV', 'INV_GNR', 'LOS_DISB', 'LOS_BDE',\n",
       "       'LOS_ERROR'], dtype=object)"
      ]
     },
     "execution_count": 19,
     "metadata": {},
     "output_type": "execute_result"
    }
   ],
   "source": [
    "df2[\"CURRENT.STAGE\"].unique()"
   ]
  },
  {
   "cell_type": "code",
   "execution_count": 20,
   "id": "b0ef1cd5",
   "metadata": {},
   "outputs": [
    {
     "data": {
      "text/plain": [
       "8"
      ]
     },
     "execution_count": 20,
     "metadata": {},
     "output_type": "execute_result"
    }
   ],
   "source": [
    "df2[\"CURRENT.STAGE\"].nunique()"
   ]
  },
  {
   "cell_type": "code",
   "execution_count": 22,
   "id": "13538d02",
   "metadata": {},
   "outputs": [
    {
     "data": {
      "text/html": [
       "<div>\n",
       "<style scoped>\n",
       "    .dataframe tbody tr th:only-of-type {\n",
       "        vertical-align: middle;\n",
       "    }\n",
       "\n",
       "    .dataframe tbody tr th {\n",
       "        vertical-align: top;\n",
       "    }\n",
       "\n",
       "    .dataframe thead th {\n",
       "        text-align: right;\n",
       "    }\n",
       "</style>\n",
       "<table border=\"1\" class=\"dataframe\">\n",
       "  <thead>\n",
       "    <tr style=\"text-align: right;\">\n",
       "      <th></th>\n",
       "      <th>APPLICATION.ID</th>\n",
       "      <th>DSA.ID</th>\n",
       "      <th>DEALER.ID</th>\n",
       "      <th>APP.DATE</th>\n",
       "      <th>TIME.STAMP</th>\n",
       "      <th>APPLICATION.STATUS</th>\n",
       "      <th>QUEUE.ID</th>\n",
       "      <th>MARITAL.STATUS</th>\n",
       "      <th>GENDER</th>\n",
       "      <th>AGE</th>\n",
       "      <th>...</th>\n",
       "      <th>PAN</th>\n",
       "      <th>BANK_PASSBOOK</th>\n",
       "      <th>__APRV</th>\n",
       "      <th>__DCLN</th>\n",
       "      <th>__INV_GNR</th>\n",
       "      <th>__LOS_BDE</th>\n",
       "      <th>__LOS_DISB</th>\n",
       "      <th>__LOS_ERROR</th>\n",
       "      <th>__PD_DE</th>\n",
       "      <th>__SRNV</th>\n",
       "    </tr>\n",
       "  </thead>\n",
       "  <tbody>\n",
       "    <tr>\n",
       "      <th>0</th>\n",
       "      <td>27497000024</td>\n",
       "      <td>JB02005</td>\n",
       "      <td>27497</td>\n",
       "      <td>2017-02-28</td>\n",
       "      <td>22:11:01</td>\n",
       "      <td>0</td>\n",
       "      <td>Straight  Through Process</td>\n",
       "      <td>0</td>\n",
       "      <td>Male</td>\n",
       "      <td>30</td>\n",
       "      <td>...</td>\n",
       "      <td>F</td>\n",
       "      <td>F</td>\n",
       "      <td>0</td>\n",
       "      <td>0</td>\n",
       "      <td>0</td>\n",
       "      <td>0</td>\n",
       "      <td>0</td>\n",
       "      <td>0</td>\n",
       "      <td>1</td>\n",
       "      <td>0</td>\n",
       "    </tr>\n",
       "    <tr>\n",
       "      <th>1</th>\n",
       "      <td>25556001005</td>\n",
       "      <td>RD02622</td>\n",
       "      <td>25556</td>\n",
       "      <td>2017-02-28</td>\n",
       "      <td>22:05:51</td>\n",
       "      <td>1</td>\n",
       "      <td>Straight  Through Process</td>\n",
       "      <td>1</td>\n",
       "      <td>Male</td>\n",
       "      <td>38</td>\n",
       "      <td>...</td>\n",
       "      <td>F</td>\n",
       "      <td>F</td>\n",
       "      <td>0</td>\n",
       "      <td>0</td>\n",
       "      <td>0</td>\n",
       "      <td>0</td>\n",
       "      <td>0</td>\n",
       "      <td>0</td>\n",
       "      <td>1</td>\n",
       "      <td>0</td>\n",
       "    </tr>\n",
       "    <tr>\n",
       "      <th>2</th>\n",
       "      <td>27220000249</td>\n",
       "      <td>SK02345</td>\n",
       "      <td>27220</td>\n",
       "      <td>2017-02-28</td>\n",
       "      <td>21:58:34</td>\n",
       "      <td>1</td>\n",
       "      <td>Straight  Through Process</td>\n",
       "      <td>1</td>\n",
       "      <td>Male</td>\n",
       "      <td>52</td>\n",
       "      <td>...</td>\n",
       "      <td>F</td>\n",
       "      <td>F</td>\n",
       "      <td>0</td>\n",
       "      <td>0</td>\n",
       "      <td>0</td>\n",
       "      <td>0</td>\n",
       "      <td>0</td>\n",
       "      <td>0</td>\n",
       "      <td>1</td>\n",
       "      <td>0</td>\n",
       "    </tr>\n",
       "    <tr>\n",
       "      <th>3</th>\n",
       "      <td>27067000029</td>\n",
       "      <td>DN30900</td>\n",
       "      <td>27067</td>\n",
       "      <td>2017-02-28</td>\n",
       "      <td>21:52:46</td>\n",
       "      <td>0</td>\n",
       "      <td>Under.Writer</td>\n",
       "      <td>1</td>\n",
       "      <td>Male</td>\n",
       "      <td>57</td>\n",
       "      <td>...</td>\n",
       "      <td>F</td>\n",
       "      <td>F</td>\n",
       "      <td>0</td>\n",
       "      <td>1</td>\n",
       "      <td>0</td>\n",
       "      <td>0</td>\n",
       "      <td>0</td>\n",
       "      <td>0</td>\n",
       "      <td>0</td>\n",
       "      <td>0</td>\n",
       "    </tr>\n",
       "    <tr>\n",
       "      <th>4</th>\n",
       "      <td>26189000138</td>\n",
       "      <td>JB02005</td>\n",
       "      <td>26189</td>\n",
       "      <td>2017-02-28</td>\n",
       "      <td>21:52:33</td>\n",
       "      <td>1</td>\n",
       "      <td>Straight  Through Process</td>\n",
       "      <td>1</td>\n",
       "      <td>Male</td>\n",
       "      <td>38</td>\n",
       "      <td>...</td>\n",
       "      <td>T</td>\n",
       "      <td>F</td>\n",
       "      <td>1</td>\n",
       "      <td>0</td>\n",
       "      <td>0</td>\n",
       "      <td>0</td>\n",
       "      <td>0</td>\n",
       "      <td>0</td>\n",
       "      <td>0</td>\n",
       "      <td>0</td>\n",
       "    </tr>\n",
       "    <tr>\n",
       "      <th>...</th>\n",
       "      <td>...</td>\n",
       "      <td>...</td>\n",
       "      <td>...</td>\n",
       "      <td>...</td>\n",
       "      <td>...</td>\n",
       "      <td>...</td>\n",
       "      <td>...</td>\n",
       "      <td>...</td>\n",
       "      <td>...</td>\n",
       "      <td>...</td>\n",
       "      <td>...</td>\n",
       "      <td>...</td>\n",
       "      <td>...</td>\n",
       "      <td>...</td>\n",
       "      <td>...</td>\n",
       "      <td>...</td>\n",
       "      <td>...</td>\n",
       "      <td>...</td>\n",
       "      <td>...</td>\n",
       "      <td>...</td>\n",
       "      <td>...</td>\n",
       "    </tr>\n",
       "    <tr>\n",
       "      <th>7754</th>\n",
       "      <td>25150001203</td>\n",
       "      <td>RP05168</td>\n",
       "      <td>25150</td>\n",
       "      <td>2017-02-22</td>\n",
       "      <td>10:43:08</td>\n",
       "      <td>1</td>\n",
       "      <td>Straight  Through Process</td>\n",
       "      <td>1</td>\n",
       "      <td>Male</td>\n",
       "      <td>39</td>\n",
       "      <td>...</td>\n",
       "      <td>T</td>\n",
       "      <td>F</td>\n",
       "      <td>1</td>\n",
       "      <td>0</td>\n",
       "      <td>0</td>\n",
       "      <td>0</td>\n",
       "      <td>0</td>\n",
       "      <td>0</td>\n",
       "      <td>0</td>\n",
       "      <td>0</td>\n",
       "    </tr>\n",
       "    <tr>\n",
       "      <th>7755</th>\n",
       "      <td>27199000069</td>\n",
       "      <td>RS24113</td>\n",
       "      <td>27199</td>\n",
       "      <td>2017-02-22</td>\n",
       "      <td>10:41:45</td>\n",
       "      <td>0</td>\n",
       "      <td>Straight  Through Process</td>\n",
       "      <td>1</td>\n",
       "      <td>Male</td>\n",
       "      <td>31</td>\n",
       "      <td>...</td>\n",
       "      <td>T</td>\n",
       "      <td>F</td>\n",
       "      <td>0</td>\n",
       "      <td>0</td>\n",
       "      <td>0</td>\n",
       "      <td>0</td>\n",
       "      <td>0</td>\n",
       "      <td>0</td>\n",
       "      <td>1</td>\n",
       "      <td>0</td>\n",
       "    </tr>\n",
       "    <tr>\n",
       "      <th>7756</th>\n",
       "      <td>26805000032</td>\n",
       "      <td>SB44646</td>\n",
       "      <td>26805</td>\n",
       "      <td>2017-02-22</td>\n",
       "      <td>10:34:56</td>\n",
       "      <td>0</td>\n",
       "      <td>Under.Writer</td>\n",
       "      <td>0</td>\n",
       "      <td>Male</td>\n",
       "      <td>21</td>\n",
       "      <td>...</td>\n",
       "      <td>F</td>\n",
       "      <td>F</td>\n",
       "      <td>0</td>\n",
       "      <td>1</td>\n",
       "      <td>0</td>\n",
       "      <td>0</td>\n",
       "      <td>0</td>\n",
       "      <td>0</td>\n",
       "      <td>0</td>\n",
       "      <td>0</td>\n",
       "    </tr>\n",
       "    <tr>\n",
       "      <th>7757</th>\n",
       "      <td>28188000004</td>\n",
       "      <td>JD25733</td>\n",
       "      <td>28188</td>\n",
       "      <td>2017-02-22</td>\n",
       "      <td>10:24:20</td>\n",
       "      <td>1</td>\n",
       "      <td>Straight  Through Process</td>\n",
       "      <td>1</td>\n",
       "      <td>Male</td>\n",
       "      <td>31</td>\n",
       "      <td>...</td>\n",
       "      <td>F</td>\n",
       "      <td>F</td>\n",
       "      <td>0</td>\n",
       "      <td>0</td>\n",
       "      <td>0</td>\n",
       "      <td>0</td>\n",
       "      <td>1</td>\n",
       "      <td>0</td>\n",
       "      <td>0</td>\n",
       "      <td>0</td>\n",
       "    </tr>\n",
       "    <tr>\n",
       "      <th>7758</th>\n",
       "      <td>27059000043</td>\n",
       "      <td>PJ58585</td>\n",
       "      <td>27059</td>\n",
       "      <td>2017-02-22</td>\n",
       "      <td>09:50:43</td>\n",
       "      <td>1</td>\n",
       "      <td>Straight  Through Process</td>\n",
       "      <td>1</td>\n",
       "      <td>Male</td>\n",
       "      <td>44</td>\n",
       "      <td>...</td>\n",
       "      <td>F</td>\n",
       "      <td>F</td>\n",
       "      <td>0</td>\n",
       "      <td>0</td>\n",
       "      <td>1</td>\n",
       "      <td>0</td>\n",
       "      <td>0</td>\n",
       "      <td>0</td>\n",
       "      <td>0</td>\n",
       "      <td>0</td>\n",
       "    </tr>\n",
       "  </tbody>\n",
       "</table>\n",
       "<p>7759 rows × 53 columns</p>\n",
       "</div>"
      ],
      "text/plain": [
       "      APPLICATION.ID   DSA.ID  DEALER.ID    APP.DATE TIME.STAMP  \\\n",
       "0        27497000024  JB02005      27497  2017-02-28   22:11:01   \n",
       "1        25556001005  RD02622      25556  2017-02-28   22:05:51   \n",
       "2        27220000249  SK02345      27220  2017-02-28   21:58:34   \n",
       "3        27067000029  DN30900      27067  2017-02-28   21:52:46   \n",
       "4        26189000138  JB02005      26189  2017-02-28   21:52:33   \n",
       "...              ...      ...        ...         ...        ...   \n",
       "7754     25150001203  RP05168      25150  2017-02-22   10:43:08   \n",
       "7755     27199000069  RS24113      27199  2017-02-22   10:41:45   \n",
       "7756     26805000032  SB44646      26805  2017-02-22   10:34:56   \n",
       "7757     28188000004  JD25733      28188  2017-02-22   10:24:20   \n",
       "7758     27059000043  PJ58585      27059  2017-02-22   09:50:43   \n",
       "\n",
       "      APPLICATION.STATUS                   QUEUE.ID  MARITAL.STATUS GENDER  \\\n",
       "0                      0  Straight  Through Process               0   Male   \n",
       "1                      1  Straight  Through Process               1   Male   \n",
       "2                      1  Straight  Through Process               1   Male   \n",
       "3                      0               Under.Writer               1   Male   \n",
       "4                      1  Straight  Through Process               1   Male   \n",
       "...                  ...                        ...             ...    ...   \n",
       "7754                   1  Straight  Through Process               1   Male   \n",
       "7755                   0  Straight  Through Process               1   Male   \n",
       "7756                   0               Under.Writer               0   Male   \n",
       "7757                   1  Straight  Through Process               1   Male   \n",
       "7758                   1  Straight  Through Process               1   Male   \n",
       "\n",
       "      AGE  ... PAN BANK_PASSBOOK __APRV __DCLN  __INV_GNR __LOS_BDE  \\\n",
       "0      30  ...   F             F      0      0          0         0   \n",
       "1      38  ...   F             F      0      0          0         0   \n",
       "2      52  ...   F             F      0      0          0         0   \n",
       "3      57  ...   F             F      0      1          0         0   \n",
       "4      38  ...   T             F      1      0          0         0   \n",
       "...   ...  ...  ..           ...    ...    ...        ...       ...   \n",
       "7754   39  ...   T             F      1      0          0         0   \n",
       "7755   31  ...   T             F      0      0          0         0   \n",
       "7756   21  ...   F             F      0      1          0         0   \n",
       "7757   31  ...   F             F      0      0          0         0   \n",
       "7758   44  ...   F             F      0      0          1         0   \n",
       "\n",
       "      __LOS_DISB __LOS_ERROR __PD_DE __SRNV  \n",
       "0              0           0       1      0  \n",
       "1              0           0       1      0  \n",
       "2              0           0       1      0  \n",
       "3              0           0       0      0  \n",
       "4              0           0       0      0  \n",
       "...          ...         ...     ...    ...  \n",
       "7754           0           0       0      0  \n",
       "7755           0           0       1      0  \n",
       "7756           0           0       0      0  \n",
       "7757           1           0       0      0  \n",
       "7758           0           0       0      0  \n",
       "\n",
       "[7759 rows x 53 columns]"
      ]
     },
     "execution_count": 22,
     "metadata": {},
     "output_type": "execute_result"
    }
   ],
   "source": [
    "#data is nominal data,hence we are using one hot encoding.But after one hot encoding no.of columns get increase by no.of unique\n",
    "#values\n",
    "\n",
    "pd.get_dummies(df2,columns=[\"CURRENT.STAGE\"],prefix=\"_\")"
   ]
  },
  {
   "cell_type": "code",
   "execution_count": null,
   "id": "a41c6cf1",
   "metadata": {},
   "outputs": [],
   "source": [
    "#Data balancing\n",
    "\n",
    "1)Upsampling\n",
    "2)Downsampling"
   ]
  },
  {
   "cell_type": "code",
   "execution_count": 34,
   "id": "abb73e1b",
   "metadata": {},
   "outputs": [],
   "source": [
    "x=df1.drop(\"Outcome\",axis=1)\n",
    "y=df1[\"Outcome\"]\n",
    "\n",
    "smt=SMOTE()\n",
    "x_samples,y_samples=smt.fit_resample(x,y)"
   ]
  },
  {
   "cell_type": "code",
   "execution_count": 36,
   "id": "95b837d9",
   "metadata": {},
   "outputs": [
    {
     "data": {
      "text/plain": [
       "1    500\n",
       "0    500\n",
       "Name: Outcome, dtype: int64"
      ]
     },
     "execution_count": 36,
     "metadata": {},
     "output_type": "execute_result"
    }
   ],
   "source": [
    "y_samples.value_counts()"
   ]
  },
  {
   "cell_type": "markdown",
   "id": "dbf69554",
   "metadata": {},
   "source": [
    "Data is balanced now"
   ]
  },
  {
   "cell_type": "code",
   "execution_count": null,
   "id": "244f1f0e",
   "metadata": {},
   "outputs": [],
   "source": [
    "#feature scalling\n",
    "\n",
    "1)Normalization\n",
    "2)Standerdization"
   ]
  },
  {
   "cell_type": "code",
   "execution_count": 41,
   "id": "b89f2e3a",
   "metadata": {},
   "outputs": [
    {
     "data": {
      "text/html": [
       "<div>\n",
       "<style scoped>\n",
       "    .dataframe tbody tr th:only-of-type {\n",
       "        vertical-align: middle;\n",
       "    }\n",
       "\n",
       "    .dataframe tbody tr th {\n",
       "        vertical-align: top;\n",
       "    }\n",
       "\n",
       "    .dataframe thead th {\n",
       "        text-align: right;\n",
       "    }\n",
       "</style>\n",
       "<table border=\"1\" class=\"dataframe\">\n",
       "  <thead>\n",
       "    <tr style=\"text-align: right;\">\n",
       "      <th></th>\n",
       "      <th>Glucose</th>\n",
       "      <th>BloodPressure</th>\n",
       "      <th>SkinThickness</th>\n",
       "      <th>Insulin</th>\n",
       "      <th>BMI</th>\n",
       "      <th>DiabetesPedigreeFunction</th>\n",
       "      <th>Age</th>\n",
       "    </tr>\n",
       "  </thead>\n",
       "  <tbody>\n",
       "    <tr>\n",
       "      <th>0</th>\n",
       "      <td>0.743719</td>\n",
       "      <td>0.409836</td>\n",
       "      <td>0.353535</td>\n",
       "      <td>0.000000</td>\n",
       "      <td>0.500745</td>\n",
       "      <td>0.234415</td>\n",
       "      <td>0.483333</td>\n",
       "    </tr>\n",
       "    <tr>\n",
       "      <th>1</th>\n",
       "      <td>0.427136</td>\n",
       "      <td>0.540984</td>\n",
       "      <td>0.292929</td>\n",
       "      <td>0.000000</td>\n",
       "      <td>0.396423</td>\n",
       "      <td>0.116567</td>\n",
       "      <td>0.166667</td>\n",
       "    </tr>\n",
       "    <tr>\n",
       "      <th>2</th>\n",
       "      <td>0.919598</td>\n",
       "      <td>0.524590</td>\n",
       "      <td>0.000000</td>\n",
       "      <td>0.000000</td>\n",
       "      <td>0.347243</td>\n",
       "      <td>0.253629</td>\n",
       "      <td>0.516667</td>\n",
       "    </tr>\n",
       "    <tr>\n",
       "      <th>3</th>\n",
       "      <td>0.753769</td>\n",
       "      <td>0.540984</td>\n",
       "      <td>0.232323</td>\n",
       "      <td>0.111111</td>\n",
       "      <td>0.418778</td>\n",
       "      <td>0.038002</td>\n",
       "      <td>0.000000</td>\n",
       "    </tr>\n",
       "    <tr>\n",
       "      <th>4</th>\n",
       "      <td>0.753769</td>\n",
       "      <td>0.327869</td>\n",
       "      <td>0.353535</td>\n",
       "      <td>0.198582</td>\n",
       "      <td>0.642325</td>\n",
       "      <td>0.943638</td>\n",
       "      <td>0.200000</td>\n",
       "    </tr>\n",
       "    <tr>\n",
       "      <th>...</th>\n",
       "      <td>...</td>\n",
       "      <td>...</td>\n",
       "      <td>...</td>\n",
       "      <td>...</td>\n",
       "      <td>...</td>\n",
       "      <td>...</td>\n",
       "      <td>...</td>\n",
       "    </tr>\n",
       "    <tr>\n",
       "      <th>763</th>\n",
       "      <td>0.507538</td>\n",
       "      <td>0.622951</td>\n",
       "      <td>0.484848</td>\n",
       "      <td>0.212766</td>\n",
       "      <td>0.490313</td>\n",
       "      <td>0.039710</td>\n",
       "      <td>0.700000</td>\n",
       "    </tr>\n",
       "    <tr>\n",
       "      <th>764</th>\n",
       "      <td>0.613065</td>\n",
       "      <td>0.573770</td>\n",
       "      <td>0.272727</td>\n",
       "      <td>0.000000</td>\n",
       "      <td>0.548435</td>\n",
       "      <td>0.111870</td>\n",
       "      <td>0.100000</td>\n",
       "    </tr>\n",
       "    <tr>\n",
       "      <th>765</th>\n",
       "      <td>0.608040</td>\n",
       "      <td>0.590164</td>\n",
       "      <td>0.232323</td>\n",
       "      <td>0.132388</td>\n",
       "      <td>0.390462</td>\n",
       "      <td>0.071307</td>\n",
       "      <td>0.150000</td>\n",
       "    </tr>\n",
       "    <tr>\n",
       "      <th>766</th>\n",
       "      <td>0.633166</td>\n",
       "      <td>0.491803</td>\n",
       "      <td>0.000000</td>\n",
       "      <td>0.000000</td>\n",
       "      <td>0.448584</td>\n",
       "      <td>0.115713</td>\n",
       "      <td>0.433333</td>\n",
       "    </tr>\n",
       "    <tr>\n",
       "      <th>767</th>\n",
       "      <td>0.467337</td>\n",
       "      <td>0.573770</td>\n",
       "      <td>0.313131</td>\n",
       "      <td>0.000000</td>\n",
       "      <td>0.453055</td>\n",
       "      <td>0.101196</td>\n",
       "      <td>0.033333</td>\n",
       "    </tr>\n",
       "  </tbody>\n",
       "</table>\n",
       "<p>768 rows × 7 columns</p>\n",
       "</div>"
      ],
      "text/plain": [
       "      Glucose  BloodPressure  SkinThickness   Insulin       BMI  \\\n",
       "0    0.743719       0.409836       0.353535  0.000000  0.500745   \n",
       "1    0.427136       0.540984       0.292929  0.000000  0.396423   \n",
       "2    0.919598       0.524590       0.000000  0.000000  0.347243   \n",
       "3    0.753769       0.540984       0.232323  0.111111  0.418778   \n",
       "4    0.753769       0.327869       0.353535  0.198582  0.642325   \n",
       "..        ...            ...            ...       ...       ...   \n",
       "763  0.507538       0.622951       0.484848  0.212766  0.490313   \n",
       "764  0.613065       0.573770       0.272727  0.000000  0.548435   \n",
       "765  0.608040       0.590164       0.232323  0.132388  0.390462   \n",
       "766  0.633166       0.491803       0.000000  0.000000  0.448584   \n",
       "767  0.467337       0.573770       0.313131  0.000000  0.453055   \n",
       "\n",
       "     DiabetesPedigreeFunction       Age  \n",
       "0                    0.234415  0.483333  \n",
       "1                    0.116567  0.166667  \n",
       "2                    0.253629  0.516667  \n",
       "3                    0.038002  0.000000  \n",
       "4                    0.943638  0.200000  \n",
       "..                        ...       ...  \n",
       "763                  0.039710  0.700000  \n",
       "764                  0.111870  0.100000  \n",
       "765                  0.071307  0.150000  \n",
       "766                  0.115713  0.433333  \n",
       "767                  0.101196  0.033333  \n",
       "\n",
       "[768 rows x 7 columns]"
      ]
     },
     "execution_count": 41,
     "metadata": {},
     "output_type": "execute_result"
    }
   ],
   "source": [
    "#Normalization\n",
    "\n",
    "x=df1.drop(\"Outcome\",axis=1)\n",
    "normal_scaler=MinMaxScaler()\n",
    "normal_scaler.fit(x)\n",
    "array=normal_scaler.transform(x)\n",
    "normal_df1=pd.DataFrame(array,columns=x.columns)\n",
    "normal_df1\n"
   ]
  },
  {
   "cell_type": "code",
   "execution_count": 42,
   "id": "01ba26d6",
   "metadata": {},
   "outputs": [
    {
     "data": {
      "text/html": [
       "<div>\n",
       "<style scoped>\n",
       "    .dataframe tbody tr th:only-of-type {\n",
       "        vertical-align: middle;\n",
       "    }\n",
       "\n",
       "    .dataframe tbody tr th {\n",
       "        vertical-align: top;\n",
       "    }\n",
       "\n",
       "    .dataframe thead th {\n",
       "        text-align: right;\n",
       "    }\n",
       "</style>\n",
       "<table border=\"1\" class=\"dataframe\">\n",
       "  <thead>\n",
       "    <tr style=\"text-align: right;\">\n",
       "      <th></th>\n",
       "      <th>Glucose</th>\n",
       "      <th>BloodPressure</th>\n",
       "      <th>SkinThickness</th>\n",
       "      <th>Insulin</th>\n",
       "      <th>BMI</th>\n",
       "      <th>DiabetesPedigreeFunction</th>\n",
       "      <th>Age</th>\n",
       "    </tr>\n",
       "  </thead>\n",
       "  <tbody>\n",
       "    <tr>\n",
       "      <th>0</th>\n",
       "      <td>0.845787</td>\n",
       "      <td>-0.985618</td>\n",
       "      <td>0.907270</td>\n",
       "      <td>-0.692891</td>\n",
       "      <td>0.204013</td>\n",
       "      <td>0.468492</td>\n",
       "      <td>1.426022</td>\n",
       "    </tr>\n",
       "    <tr>\n",
       "      <th>1</th>\n",
       "      <td>-1.136319</td>\n",
       "      <td>-0.158966</td>\n",
       "      <td>0.530902</td>\n",
       "      <td>-0.692891</td>\n",
       "      <td>-0.684422</td>\n",
       "      <td>-0.365061</td>\n",
       "      <td>-0.190927</td>\n",
       "    </tr>\n",
       "    <tr>\n",
       "      <th>2</th>\n",
       "      <td>1.946957</td>\n",
       "      <td>-0.262298</td>\n",
       "      <td>-1.288212</td>\n",
       "      <td>-0.692891</td>\n",
       "      <td>-1.103255</td>\n",
       "      <td>0.604397</td>\n",
       "      <td>1.596227</td>\n",
       "    </tr>\n",
       "    <tr>\n",
       "      <th>3</th>\n",
       "      <td>0.908711</td>\n",
       "      <td>-0.158966</td>\n",
       "      <td>0.154533</td>\n",
       "      <td>0.123302</td>\n",
       "      <td>-0.494043</td>\n",
       "      <td>-0.920763</td>\n",
       "      <td>-1.041953</td>\n",
       "    </tr>\n",
       "    <tr>\n",
       "      <th>4</th>\n",
       "      <td>0.908711</td>\n",
       "      <td>-1.502276</td>\n",
       "      <td>0.907270</td>\n",
       "      <td>0.765836</td>\n",
       "      <td>1.409746</td>\n",
       "      <td>5.484909</td>\n",
       "      <td>-0.020722</td>\n",
       "    </tr>\n",
       "    <tr>\n",
       "      <th>...</th>\n",
       "      <td>...</td>\n",
       "      <td>...</td>\n",
       "      <td>...</td>\n",
       "      <td>...</td>\n",
       "      <td>...</td>\n",
       "      <td>...</td>\n",
       "      <td>...</td>\n",
       "    </tr>\n",
       "    <tr>\n",
       "      <th>763</th>\n",
       "      <td>-0.632927</td>\n",
       "      <td>0.357691</td>\n",
       "      <td>1.722735</td>\n",
       "      <td>0.870031</td>\n",
       "      <td>0.115169</td>\n",
       "      <td>-0.908682</td>\n",
       "      <td>2.532356</td>\n",
       "    </tr>\n",
       "    <tr>\n",
       "      <th>764</th>\n",
       "      <td>0.027775</td>\n",
       "      <td>0.047697</td>\n",
       "      <td>0.405445</td>\n",
       "      <td>-0.692891</td>\n",
       "      <td>0.610154</td>\n",
       "      <td>-0.398282</td>\n",
       "      <td>-0.531337</td>\n",
       "    </tr>\n",
       "    <tr>\n",
       "      <th>765</th>\n",
       "      <td>-0.003687</td>\n",
       "      <td>0.151028</td>\n",
       "      <td>0.154533</td>\n",
       "      <td>0.279594</td>\n",
       "      <td>-0.735190</td>\n",
       "      <td>-0.685193</td>\n",
       "      <td>-0.276029</td>\n",
       "    </tr>\n",
       "    <tr>\n",
       "      <th>766</th>\n",
       "      <td>0.153623</td>\n",
       "      <td>-0.468961</td>\n",
       "      <td>-1.288212</td>\n",
       "      <td>-0.692891</td>\n",
       "      <td>-0.240205</td>\n",
       "      <td>-0.371101</td>\n",
       "      <td>1.170715</td>\n",
       "    </tr>\n",
       "    <tr>\n",
       "      <th>767</th>\n",
       "      <td>-0.884623</td>\n",
       "      <td>0.047697</td>\n",
       "      <td>0.656358</td>\n",
       "      <td>-0.692891</td>\n",
       "      <td>-0.202129</td>\n",
       "      <td>-0.473785</td>\n",
       "      <td>-0.871747</td>\n",
       "    </tr>\n",
       "  </tbody>\n",
       "</table>\n",
       "<p>768 rows × 7 columns</p>\n",
       "</div>"
      ],
      "text/plain": [
       "      Glucose  BloodPressure  SkinThickness   Insulin       BMI  \\\n",
       "0    0.845787      -0.985618       0.907270 -0.692891  0.204013   \n",
       "1   -1.136319      -0.158966       0.530902 -0.692891 -0.684422   \n",
       "2    1.946957      -0.262298      -1.288212 -0.692891 -1.103255   \n",
       "3    0.908711      -0.158966       0.154533  0.123302 -0.494043   \n",
       "4    0.908711      -1.502276       0.907270  0.765836  1.409746   \n",
       "..        ...            ...            ...       ...       ...   \n",
       "763 -0.632927       0.357691       1.722735  0.870031  0.115169   \n",
       "764  0.027775       0.047697       0.405445 -0.692891  0.610154   \n",
       "765 -0.003687       0.151028       0.154533  0.279594 -0.735190   \n",
       "766  0.153623      -0.468961      -1.288212 -0.692891 -0.240205   \n",
       "767 -0.884623       0.047697       0.656358 -0.692891 -0.202129   \n",
       "\n",
       "     DiabetesPedigreeFunction       Age  \n",
       "0                    0.468492  1.426022  \n",
       "1                   -0.365061 -0.190927  \n",
       "2                    0.604397  1.596227  \n",
       "3                   -0.920763 -1.041953  \n",
       "4                    5.484909 -0.020722  \n",
       "..                        ...       ...  \n",
       "763                 -0.908682  2.532356  \n",
       "764                 -0.398282 -0.531337  \n",
       "765                 -0.685193 -0.276029  \n",
       "766                 -0.371101  1.170715  \n",
       "767                 -0.473785 -0.871747  \n",
       "\n",
       "[768 rows x 7 columns]"
      ]
     },
     "execution_count": 42,
     "metadata": {},
     "output_type": "execute_result"
    }
   ],
   "source": [
    "#Standerdization\n",
    "\n",
    "x=df1.drop(\"Outcome\",axis=1)\n",
    "std_scaler=StandardScaler()\n",
    "std_scaler.fit(x)\n",
    "array=std_scaler.transform(x)\n",
    "std_df1=pd.DataFrame(array,columns=x.columns)\n",
    "std_df1\n"
   ]
  },
  {
   "cell_type": "markdown",
   "id": "10ffcd19",
   "metadata": {},
   "source": [
    "# Feature Selection"
   ]
  },
  {
   "cell_type": "code",
   "execution_count": null,
   "id": "e7436d51",
   "metadata": {},
   "outputs": [],
   "source": [
    "1)Filter Method\n",
    "2)Wrapper Method\n",
    "3)Embedded Method"
   ]
  },
  {
   "cell_type": "code",
   "execution_count": null,
   "id": "a16d7c6f",
   "metadata": {},
   "outputs": [],
   "source": [
    "#Filter method"
   ]
  },
  {
   "cell_type": "code",
   "execution_count": 45,
   "id": "29709f3b",
   "metadata": {},
   "outputs": [
    {
     "data": {
      "text/plain": [
       "Emp ID            0.0\n",
       "First Name        0.0\n",
       "Age in Yrs        1.0\n",
       "Weight in Kgs     3.0\n",
       "Age in Company    2.0\n",
       "Salary            5.0\n",
       "City              1.0\n",
       "dtype: float64"
      ]
     },
     "execution_count": 45,
     "metadata": {},
     "output_type": "execute_result"
    }
   ],
   "source": [
    "#Checking missing value count: if any feature having more than 25% or 30% NAN values then we are droping such feature\n",
    "\n",
    "df.isna().mean()*100"
   ]
  },
  {
   "cell_type": "code",
   "execution_count": 46,
   "id": "7f7b1fd9",
   "metadata": {},
   "outputs": [
    {
     "data": {
      "image/png": "[encoded data removed]",
      "text/plain": [
       "<Figure size 720x72 with 2 Axes>"
      ]
     },
     "metadata": {
      "needs_background": "light"
     },
     "output_type": "display_data"
    }
   ],
   "source": [
    "#Checking correlation between dependant and independant feature\n",
    "\n",
    "correlation=df1.corr()\n",
    "a=correlation.tail(1)\n",
    "plt.figure(figsize=(10,1))\n",
    "sns.heatmap(a,annot=True)\n",
    "plt.show()"
   ]
  },
  {
   "cell_type": "code",
   "execution_count": 47,
   "id": "2a3fe1b1",
   "metadata": {},
   "outputs": [
    {
     "data": {
      "text/plain": [
       "<AxesSubplot:>"
      ]
     },
     "execution_count": 47,
     "metadata": {},
     "output_type": "execute_result"
    },
    {
     "data": {
      "image/png": "[encoded data removed]",
      "text/plain": [
       "<Figure size 432x288 with 1 Axes>"
      ]
     },
     "metadata": {
      "needs_background": "light"
     },
     "output_type": "display_data"
    }
   ],
   "source": [
    "#Variance Threshold\n",
    "\n",
    "df1.var().plot(kind=\"bar\")"
   ]
  },
  {
   "cell_type": "code",
   "execution_count": 49,
   "id": "b5086230",
   "metadata": {},
   "outputs": [
    {
     "name": "stderr",
     "output_type": "stream",
     "text": [
      "C:\\Users\\JOTIBA\\anaconda3\\lib\\site-packages\\skfeature\\utility\\construct_W.py:194: FutureWarning: Support for multi-dimensional indexing (e.g. `obj[:, None]`) is deprecated and will be removed in a future version.  Convert to a numpy array before indexing instead.\n",
      "  class_idx_all = class_idx[:, np.newaxis] & class_idx[np.newaxis, :]\n"
     ]
    },
    {
     "data": {
      "text/plain": [
       "<AxesSubplot:>"
      ]
     },
     "execution_count": 49,
     "metadata": {},
     "output_type": "execute_result"
    },
    {
     "data": {
      "image/png": "[encoded data removed]",
      "text/plain": [
       "<Figure size 432x288 with 1 Axes>"
      ]
     },
     "metadata": {
      "needs_background": "light"
     },
     "output_type": "display_data"
    }
   ],
   "source": [
    "#fisher score\n",
    "\n",
    "from skfeature.function.similarity_based import fisher_score\n",
    "x=df1.drop(\"Outcome\",axis=1)\n",
    "y=df1[\"Outcome\"]\n",
    "fisher_score=fisher_score.fisher_score(x.values,y)\n",
    "s1=pd.Series(fisher_score,index=x.columns)\n",
    "s1.sort_values().plot(kind=\"barh\")"
   ]
  },
  {
   "cell_type": "code",
   "execution_count": 50,
   "id": "41f14657",
   "metadata": {},
   "outputs": [
    {
     "data": {
      "text/plain": [
       "<AxesSubplot:>"
      ]
     },
     "execution_count": 50,
     "metadata": {},
     "output_type": "execute_result"
    },
    {
     "data": {
      "image/png": "[encoded data removed]",
      "text/plain": [
       "<Figure size 432x288 with 1 Axes>"
      ]
     },
     "metadata": {
      "needs_background": "light"
     },
     "output_type": "display_data"
    }
   ],
   "source": [
    "#information gain\n",
    "\n",
    "from sklearn.feature_selection import mutual_info_regression\n",
    "gain=mutual_info_regression(x,y)\n",
    "s1=pd.Series(gain,index=x.columns)\n",
    "s1.sort_values().plot(kind=\"barh\")"
   ]
  },
  {
   "cell_type": "code",
   "execution_count": null,
   "id": "65f7bf90",
   "metadata": {},
   "outputs": [],
   "source": [
    "#Wrapper method\n",
    "1)Forword Feature Selection\n",
    "2)Backword Feature Elemenation"
   ]
  },
  {
   "cell_type": "code",
   "execution_count": 54,
   "id": "d5adab86",
   "metadata": {},
   "outputs": [
    {
     "name": "stdout",
     "output_type": "stream",
     "text": [
      "Index(['Glucose', 'BMI', 'DiabetesPedigreeFunction'], dtype='object')\n",
      "3 0.80859375\n",
      "Index(['Glucose', 'BMI', 'DiabetesPedigreeFunction', 'Age'], dtype='object')\n",
      "4 0.8125\n",
      "Index(['Glucose', 'BloodPressure', 'BMI', 'DiabetesPedigreeFunction', 'Age'], dtype='object')\n",
      "5 0.8177083333333334\n"
     ]
    }
   ],
   "source": [
    "#forword selection\n",
    "\n",
    "from sklearn.feature_selection import SequentialFeatureSelector\n",
    "from sklearn.neighbors import KNeighborsClassifier\n",
    "\n",
    "x=df1.drop(\"Outcome\",axis=1)\n",
    "y=df1[\"Outcome\"]\n",
    "\n",
    "knn=KNeighborsClassifier()\n",
    "for i in range(3,6):\n",
    "    sfs=SequentialFeatureSelector(knn,n_features_to_select=i,direction=\"forward\",cv=7)\n",
    "    sfs.fit(x,y)\n",
    "    array=sfs.get_support()\n",
    "    feature=x.columns[np.where(array==True)[0]]\n",
    "    print(feature)\n",
    "    knn.fit(x[feature],y)\n",
    "    accuracy=knn.score(x[feature],y)\n",
    "    print(i,accuracy)"
   ]
  },
  {
   "cell_type": "code",
   "execution_count": 55,
   "id": "8efa7ba4",
   "metadata": {},
   "outputs": [
    {
     "name": "stdout",
     "output_type": "stream",
     "text": [
      "Index(['Glucose', 'BloodPressure', 'BMI', 'DiabetesPedigreeFunction', 'Age'], dtype='object')\n"
     ]
    }
   ],
   "source": [
    "#backword feature Elemenation\n",
    "\n",
    "from sklearn.feature_selection import SequentialFeatureSelector\n",
    "from sklearn.neighbors import KNeighborsClassifier\n",
    "\n",
    "x=df1.drop(\"Outcome\",axis=1)\n",
    "y=df1[\"Outcome\"]\n",
    "\n",
    "knn=KNeighborsClassifier()\n",
    "sfs=SequentialFeatureSelector(knn,n_features_to_select=5,direction=\"backward\",cv=7)\n",
    "sfs.fit(x,y)\n",
    "array=sfs.get_support()\n",
    "feature=x.columns[np.where(array==True)[0]]\n",
    "print(feature)\n",
    "       "
   ]
  },
  {
   "cell_type": "markdown",
   "id": "b29fb626",
   "metadata": {},
   "source": [
    "From above observation we can conclude that \"Glucose\", \"BMI\",\"Age\",\"Insulin\",\"DiabetesPedigreeFunction\",\"BloodPressure\" are the top important features."
   ]
  },
  {
   "cell_type": "code",
   "execution_count": null,
   "id": "ba9a4b24",
   "metadata": {},
   "outputs": [],
   "source": []
  }
 ],
 "metadata": {
  "kernelspec": {
   "display_name": "Python 3 (ipykernel)",
   "language": "python",
   "name": "python3"
  },
  "language_info": {
   "codemirror_mode": {
    "name": "ipython",
    "version": 3
   },
   "file_extension": ".py",
   "mimetype": "text/x-python",
   "name": "python",
   "nbconvert_exporter": "python",
   "pygments_lexer": "ipython3",
   "version": "3.9.12"
  }
 },
 "nbformat": 4,
 "nbformat_minor": 5
}
